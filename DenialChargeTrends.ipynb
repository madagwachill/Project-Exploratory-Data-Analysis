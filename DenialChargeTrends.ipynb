{
 "cells": [
  {
   "cell_type": "code",
   "execution_count": 32,
   "metadata": {},
   "outputs": [],
   "source": [
    "import pandas as pd\n",
    "from glob import glob\n",
    "import datetime as dt\n",
    "import seaborn as sns; sns.set()\n",
    "import matplotlib.pyplot as plt\n",
    "from matplotlib import dates as mpl_dates\n",
    "import numpy as np\n",
    "import warnings\n",
    "warnings.filterwarnings('ignore')"
   ]
  },
  {
   "cell_type": "code",
   "execution_count": 33,
   "metadata": {},
   "outputs": [
    {
     "data": {
      "text/html": [
       "<div>\n",
       "<style scoped>\n",
       "    .dataframe tbody tr th:only-of-type {\n",
       "        vertical-align: middle;\n",
       "    }\n",
       "\n",
       "    .dataframe tbody tr th {\n",
       "        vertical-align: top;\n",
       "    }\n",
       "\n",
       "    .dataframe thead th {\n",
       "        text-align: right;\n",
       "    }\n",
       "</style>\n",
       "<table border=\"1\" class=\"dataframe\">\n",
       "  <thead>\n",
       "    <tr style=\"text-align: right;\">\n",
       "      <th></th>\n",
       "      <th>Trip Date</th>\n",
       "      <th>Job Number</th>\n",
       "      <th>Database</th>\n",
       "      <th>Client Code</th>\n",
       "      <th>Client</th>\n",
       "      <th>Service Type: Name</th>\n",
       "      <th>Market Type</th>\n",
       "      <th>Payor Code</th>\n",
       "      <th>Payor</th>\n",
       "      <th>Trip Status</th>\n",
       "      <th>Call Type</th>\n",
       "      <th>Response Priority</th>\n",
       "      <th>Charge</th>\n",
       "      <th>Post Date</th>\n",
       "      <th>Check Date</th>\n",
       "      <th>Deposit Date</th>\n",
       "      <th>Batch Number</th>\n",
       "      <th>Denial Code</th>\n",
       "      <th>Denial Reason Code</th>\n",
       "      <th>Denial Reason Descr</th>\n",
       "    </tr>\n",
       "  </thead>\n",
       "  <tbody>\n",
       "    <tr>\n",
       "      <th>0</th>\n",
       "      <td>1/1/2017</td>\n",
       "      <td>0209-A</td>\n",
       "      <td>PIT</td>\n",
       "      <td>38</td>\n",
       "      <td>HealthNet Aeromedical Services</td>\n",
       "      <td>Ground Transport</td>\n",
       "      <td>Municipal: Fire Based</td>\n",
       "      <td>8229</td>\n",
       "      <td>Medicare WV Rural</td>\n",
       "      <td>Closed</td>\n",
       "      <td>Rotor</td>\n",
       "      <td>Emergency</td>\n",
       "      <td>0.0</td>\n",
       "      <td>2/16/2017</td>\n",
       "      <td>NaN</td>\n",
       "      <td>2/15/2017</td>\n",
       "      <td>0</td>\n",
       "      <td>76</td>\n",
       "      <td>CO16</td>\n",
       "      <td>Claim/service lacks information which is neede...</td>\n",
       "    </tr>\n",
       "    <tr>\n",
       "      <th>1</th>\n",
       "      <td>1/1/2017</td>\n",
       "      <td>0372-A</td>\n",
       "      <td>PIT</td>\n",
       "      <td>47</td>\n",
       "      <td>Canonsburg General Hospital Ambulance Service</td>\n",
       "      <td>Ground Transport</td>\n",
       "      <td>Hospital-based</td>\n",
       "      <td>22</td>\n",
       "      <td>United Healthcare (30555) Commercial</td>\n",
       "      <td>Closed</td>\n",
       "      <td>BLS</td>\n",
       "      <td>Emergency</td>\n",
       "      <td>0.0</td>\n",
       "      <td>11/13/2017</td>\n",
       "      <td>NaN</td>\n",
       "      <td>11/10/2017</td>\n",
       "      <td>0</td>\n",
       "      <td>135</td>\n",
       "      <td>PR27</td>\n",
       "      <td>Expenses incurred after coverage terminated.</td>\n",
       "    </tr>\n",
       "    <tr>\n",
       "      <th>2</th>\n",
       "      <td>1/1/2017</td>\n",
       "      <td>0226-A</td>\n",
       "      <td>PIT</td>\n",
       "      <td>35</td>\n",
       "      <td>WCA Services Corporation</td>\n",
       "      <td>Ground Transport</td>\n",
       "      <td>Municipal: Fire Based</td>\n",
       "      <td>7697</td>\n",
       "      <td>14-Erie Co Medicaid</td>\n",
       "      <td>Closed</td>\n",
       "      <td>Rotor</td>\n",
       "      <td>Flight</td>\n",
       "      <td>0.0</td>\n",
       "      <td>5/19/2017</td>\n",
       "      <td>5/1/2017</td>\n",
       "      <td>5/18/2017</td>\n",
       "      <td>0</td>\n",
       "      <td>2825</td>\n",
       "      <td>68</td>\n",
       "      <td>Claim submission date not within required time...</td>\n",
       "    </tr>\n",
       "  </tbody>\n",
       "</table>\n",
       "</div>"
      ],
      "text/plain": [
       "  Trip Date Job Number Database  Client Code  \\\n",
       "0  1/1/2017     0209-A      PIT           38   \n",
       "1  1/1/2017     0372-A      PIT           47   \n",
       "2  1/1/2017     0226-A      PIT           35   \n",
       "\n",
       "                                          Client Service Type: Name  \\\n",
       "0                 HealthNet Aeromedical Services   Ground Transport   \n",
       "1  Canonsburg General Hospital Ambulance Service   Ground Transport   \n",
       "2                       WCA Services Corporation   Ground Transport   \n",
       "\n",
       "             Market Type  Payor Code                                 Payor  \\\n",
       "0  Municipal: Fire Based        8229                     Medicare WV Rural   \n",
       "1         Hospital-based          22  United Healthcare (30555) Commercial   \n",
       "2  Municipal: Fire Based        7697                   14-Erie Co Medicaid   \n",
       "\n",
       "  Trip Status Call Type Response Priority  Charge   Post Date Check Date  \\\n",
       "0      Closed     Rotor         Emergency     0.0   2/16/2017        NaN   \n",
       "1      Closed       BLS         Emergency     0.0  11/13/2017        NaN   \n",
       "2      Closed     Rotor            Flight     0.0   5/19/2017   5/1/2017   \n",
       "\n",
       "  Deposit Date  Batch Number  Denial Code Denial Reason Code  \\\n",
       "0    2/15/2017             0           76               CO16   \n",
       "1   11/10/2017             0          135               PR27   \n",
       "2    5/18/2017             0         2825                 68   \n",
       "\n",
       "                                 Denial Reason Descr  \n",
       "0  Claim/service lacks information which is neede...  \n",
       "1       Expenses incurred after coverage terminated.  \n",
       "2  Claim submission date not within required time...  "
      ]
     },
     "execution_count": 33,
     "metadata": {},
     "output_type": "execute_result"
    }
   ],
   "source": [
    "client_denial_information = pd.read_csv('data/5_Tables_that_includes_denial_information_by_client_and_payor_type.csv')\n",
    "client_denial_information.head(3)"
   ]
  },
  {
   "cell_type": "code",
   "execution_count": 4,
   "metadata": {},
   "outputs": [],
   "source": [
    "#client_denial_information.shape"
   ]
  },
  {
   "cell_type": "code",
   "execution_count": 5,
   "metadata": {},
   "outputs": [],
   "source": [
    "#client_denial_information.info()"
   ]
  },
  {
   "cell_type": "code",
   "execution_count": 6,
   "metadata": {},
   "outputs": [],
   "source": [
    "#client_denial_information[client_denial_information.duplicated(subset=['Trip Date'], keep=False)]"
   ]
  },
  {
   "cell_type": "code",
   "execution_count": 34,
   "metadata": {},
   "outputs": [
    {
     "data": {
      "text/plain": [
       "PIT    282873\n",
       "CTA     99092\n",
       "MW      74456\n",
       "Name: Database, dtype: int64"
      ]
     },
     "execution_count": 34,
     "metadata": {},
     "output_type": "execute_result"
    }
   ],
   "source": [
    "client_denial_information['Database'].value_counts()"
   ]
  },
  {
   "cell_type": "code",
   "execution_count": 37,
   "metadata": {},
   "outputs": [],
   "source": [
    "# filter dataframe to obtain data from PIT database only\n",
    "client_denial_information_2 = client_denial_information['Database']=='PIT'\n",
    "client_denial_information_data = client_denial_information.loc[client_denial_information_2]\n",
    "\n",
    "#client_denial_information_data.head()"
   ]
  },
  {
   "cell_type": "code",
   "execution_count": 5,
   "metadata": {},
   "outputs": [],
   "source": [
    "# Change the data types for some of the columns to categorical dtypes used for visualizations\n",
    "client_denial_information_data['Trip Date'] = pd.to_datetime(client_denial_information_data ['Trip Date'])\n",
    "client_denial_information_data['Post Date'] = pd.to_datetime(client_denial_information_data ['Post Date'])\n",
    "#client_denial_information_data['Check Date'] = pd.to_datetime(client_denial_information_data ['Check Date'])\n",
    "client_denial_information_data['Deposit Date'] = pd.to_datetime(client_denial_information_data ['Deposit Date'])\n",
    "client_denial_information_data['Market Type'] = client_denial_information_data['Market Type'].astype('category')\n",
    "client_denial_information_data['Market Type'] = client_denial_information_data['Service Type: Name'].astype('category')\n",
    "#round(client_denial_information_data.describe(),2)"
   ]
  },
  {
   "cell_type": "code",
   "execution_count": null,
   "metadata": {},
   "outputs": [],
   "source": [
    "#client_denial_information_data.info()"
   ]
  },
  {
   "cell_type": "code",
   "execution_count": 35,
   "metadata": {},
   "outputs": [
    {
     "data": {
      "text/html": [
       "<div>\n",
       "<style scoped>\n",
       "    .dataframe tbody tr th:only-of-type {\n",
       "        vertical-align: middle;\n",
       "    }\n",
       "\n",
       "    .dataframe tbody tr th {\n",
       "        vertical-align: top;\n",
       "    }\n",
       "\n",
       "    .dataframe thead th {\n",
       "        text-align: right;\n",
       "    }\n",
       "</style>\n",
       "<table border=\"1\" class=\"dataframe\">\n",
       "  <thead>\n",
       "    <tr style=\"text-align: right;\">\n",
       "      <th></th>\n",
       "      <th>Trip Date</th>\n",
       "      <th>Job Number</th>\n",
       "      <th>Database</th>\n",
       "      <th>Client Code</th>\n",
       "      <th>Client</th>\n",
       "      <th>Service Type: Name</th>\n",
       "      <th>Market Type</th>\n",
       "      <th>Payor Code</th>\n",
       "      <th>Payor</th>\n",
       "      <th>Trip Status</th>\n",
       "      <th>Call Type</th>\n",
       "      <th>Response Priority</th>\n",
       "      <th>Charge</th>\n",
       "      <th>Post Date</th>\n",
       "      <th>Check Date</th>\n",
       "      <th>Deposit Date</th>\n",
       "      <th>Batch Number</th>\n",
       "      <th>Denial Code</th>\n",
       "      <th>Denial Reason Code</th>\n",
       "      <th>Denial Reason Descr</th>\n",
       "    </tr>\n",
       "  </thead>\n",
       "  <tbody>\n",
       "    <tr>\n",
       "      <th>4</th>\n",
       "      <td>2017-01-01</td>\n",
       "      <td>0340-A</td>\n",
       "      <td>PIT</td>\n",
       "      <td>46</td>\n",
       "      <td>LifeMed Alaska</td>\n",
       "      <td>Air Transport</td>\n",
       "      <td>Air Transport</td>\n",
       "      <td>8884</td>\n",
       "      <td>MediCARE AK LMAK</td>\n",
       "      <td>Closed</td>\n",
       "      <td>BLS</td>\n",
       "      <td>Non-Emergency</td>\n",
       "      <td>1029.0</td>\n",
       "      <td>2017-01-23</td>\n",
       "      <td>1/19/2017</td>\n",
       "      <td>2017-01-19</td>\n",
       "      <td>134495</td>\n",
       "      <td>2298</td>\n",
       "      <td>PR96</td>\n",
       "      <td>Non-covered charge(s).</td>\n",
       "    </tr>\n",
       "    <tr>\n",
       "      <th>5</th>\n",
       "      <td>2017-01-01</td>\n",
       "      <td>0340-A</td>\n",
       "      <td>PIT</td>\n",
       "      <td>46</td>\n",
       "      <td>LifeMed Alaska</td>\n",
       "      <td>Air Transport</td>\n",
       "      <td>Air Transport</td>\n",
       "      <td>8884</td>\n",
       "      <td>MediCARE AK LMAK</td>\n",
       "      <td>Closed</td>\n",
       "      <td>BLS</td>\n",
       "      <td>Non-Emergency</td>\n",
       "      <td>1030.0</td>\n",
       "      <td>2017-01-23</td>\n",
       "      <td>1/19/2017</td>\n",
       "      <td>2017-01-19</td>\n",
       "      <td>134495</td>\n",
       "      <td>2298</td>\n",
       "      <td>PR96</td>\n",
       "      <td>Non-covered charge(s).</td>\n",
       "    </tr>\n",
       "    <tr>\n",
       "      <th>14</th>\n",
       "      <td>2017-01-01</td>\n",
       "      <td>0342-A</td>\n",
       "      <td>PIT</td>\n",
       "      <td>46</td>\n",
       "      <td>LifeMed Alaska</td>\n",
       "      <td>Air Transport</td>\n",
       "      <td>Air Transport</td>\n",
       "      <td>8883</td>\n",
       "      <td>MediCAID AK LMAK</td>\n",
       "      <td>Closed</td>\n",
       "      <td>BLS</td>\n",
       "      <td>Non-Emergency</td>\n",
       "      <td>987.0</td>\n",
       "      <td>2017-04-25</td>\n",
       "      <td>4/19/2017</td>\n",
       "      <td>2017-04-21</td>\n",
       "      <td>144173</td>\n",
       "      <td>1055</td>\n",
       "      <td>CO16</td>\n",
       "      <td>Claim lacks information needed for adjudication</td>\n",
       "    </tr>\n",
       "  </tbody>\n",
       "</table>\n",
       "</div>"
      ],
      "text/plain": [
       "    Trip Date Job Number Database  Client Code          Client  \\\n",
       "4  2017-01-01     0340-A      PIT           46  LifeMed Alaska   \n",
       "5  2017-01-01     0340-A      PIT           46  LifeMed Alaska   \n",
       "14 2017-01-01     0342-A      PIT           46  LifeMed Alaska   \n",
       "\n",
       "   Service Type: Name    Market Type  Payor Code             Payor  \\\n",
       "4       Air Transport  Air Transport        8884  MediCARE AK LMAK   \n",
       "5       Air Transport  Air Transport        8884  MediCARE AK LMAK   \n",
       "14      Air Transport  Air Transport        8883  MediCAID AK LMAK   \n",
       "\n",
       "   Trip Status Call Type Response Priority  Charge  Post Date Check Date  \\\n",
       "4       Closed       BLS     Non-Emergency  1029.0 2017-01-23  1/19/2017   \n",
       "5       Closed       BLS     Non-Emergency  1030.0 2017-01-23  1/19/2017   \n",
       "14      Closed       BLS     Non-Emergency   987.0 2017-04-25  4/19/2017   \n",
       "\n",
       "   Deposit Date  Batch Number  Denial Code Denial Reason Code  \\\n",
       "4    2017-01-19        134495         2298               PR96   \n",
       "5    2017-01-19        134495         2298               PR96   \n",
       "14   2017-04-21        144173         1055               CO16   \n",
       "\n",
       "                                Denial Reason Descr  \n",
       "4                            Non-covered charge(s).  \n",
       "5                            Non-covered charge(s).  \n",
       "14  Claim lacks information needed for adjudication  "
      ]
     },
     "execution_count": 35,
     "metadata": {},
     "output_type": "execute_result"
    }
   ],
   "source": [
    "# filter data client_denial_information_data with top 10 denial code\n",
    "\n",
    "client_denial_information_data_2 = client_denial_information_data['Denial Code'].isin(['86', '88', '106', '155', '476', '481', '541', '1055', '1748', '2298'])\n",
    "df_client_denial_information_data = client_denial_information_data.loc[ client_denial_information_data_2]\n",
    "df_client_denial_information_data.head(3)"
   ]
  },
  {
   "cell_type": "code",
   "execution_count": 16,
   "metadata": {},
   "outputs": [],
   "source": [
    "#df_client_denial_information_data.isnull().sum()"
   ]
  },
  {
   "cell_type": "code",
   "execution_count": 36,
   "metadata": {},
   "outputs": [],
   "source": [
    "def missing_data(dataset):\n",
    "    # Calculate the percentage of missing data in each column\n",
    "    Total = dataset.isnull().sum().sort_values(ascending = False)\n",
    "    Percentage = (dataset.isnull().sum()/dataset.isnull().count() * 100).sort_values(ascending = False)\n",
    "    missing_data = pd.concat([Total, Percentage], axis = 1, keys = ['Total', 'Percentage'])\n",
    "    return missing_data"
   ]
  },
  {
   "cell_type": "code",
   "execution_count": 14,
   "metadata": {},
   "outputs": [],
   "source": [
    "#missing_data(df_client_denial_information_data)"
   ]
  },
  {
   "cell_type": "code",
   "execution_count": 8,
   "metadata": {},
   "outputs": [],
   "source": [
    "# drop rows when any of ['Service Type: Name', 'Market Type', 'Charge', 'Check Date'] reported columns contains a Null value\n",
    "df_client_denial_information_data.dropna(subset=['Service Type: Name', 'Market Type', 'Charge', 'Check Date'], how='any', inplace=True)"
   ]
  },
  {
   "cell_type": "code",
   "execution_count": 9,
   "metadata": {},
   "outputs": [
    {
     "data": {
      "text/plain": [
       "Trip Date              0\n",
       "Job Number             0\n",
       "Database               0\n",
       "Client Code            0\n",
       "Client                 0\n",
       "Service Type: Name     0\n",
       "Market Type            0\n",
       "Payor Code             0\n",
       "Payor                  0\n",
       "Trip Status            0\n",
       "Call Type              0\n",
       "Response Priority      0\n",
       "Charge                 0\n",
       "Post Date              0\n",
       "Check Date             0\n",
       "Deposit Date           0\n",
       "Batch Number           0\n",
       "Denial Code            0\n",
       "Denial Reason Code     0\n",
       "Denial Reason Descr    0\n",
       "dtype: int64"
      ]
     },
     "execution_count": 9,
     "metadata": {},
     "output_type": "execute_result"
    }
   ],
   "source": [
    "df_client_denial_information_data.isnull().sum()"
   ]
  },
  {
   "cell_type": "code",
   "execution_count": 10,
   "metadata": {},
   "outputs": [],
   "source": [
    "dataset = df_client_denial_information_data.copy()\n",
    "dataset = dataset.set_index(['Trip Date'])\n",
    "#display(dataset.head())"
   ]
  },
  {
   "cell_type": "code",
   "execution_count": 11,
   "metadata": {},
   "outputs": [],
   "source": [
    "# Before we can start performing analysis, we have to resample the datetime \n",
    "data_hourly = dataset.resample('H').mean()\n",
    "#display(data_daily.head())\n",
    "\n",
    "data_daily = dataset.resample('D').mean()\n",
    "#display(data_daily.head())\n",
    "\n",
    "data_weekly = dataset.resample('W').mean()\n",
    "#display(data_weekly.head())\n",
    "\n",
    "data_monthly = dataset.resample('M').mean()\n",
    "#display(data_monthly.head())\n",
    "\n",
    "data_Quarterly = dataset.resample('Q').mean()\n",
    "#display(data_Quarterly.head())\n",
    "\n",
    "data_yearly = dataset.resample('Y').mean()\n",
    "#display(data_Yearly.head())"
   ]
  },
  {
   "cell_type": "code",
   "execution_count": 12,
   "metadata": {},
   "outputs": [],
   "source": [
    "# Let's make a copy of the working dataset \n",
    "data = dataset.copy()\n",
    "data.reset_index(inplace=True)"
   ]
  },
  {
   "cell_type": "code",
   "execution_count": 20,
   "metadata": {},
   "outputs": [],
   "source": [
    "#data.head(3)"
   ]
  },
  {
   "cell_type": "code",
   "execution_count": 13,
   "metadata": {},
   "outputs": [
    {
     "data": {
      "image/png": "[encoded data removed]",
      "text/plain": [
       "<Figure size 1080x576 with 1 Axes>"
      ]
     },
     "metadata": {
      "needs_background": "light"
     },
     "output_type": "display_data"
    }
   ],
   "source": [
    "# Plot the yearly data point to ascertain the Monthly trend\n",
    "plt.figure(figsize=(15,8))\n",
    "plt.plot(data_monthly.index, data_monthly['Charge'], marker='o')\n",
    "plt.xlabel('Year', size=20)\n",
    "plt.ylabel('Charge', size=20)\n",
    "plt.title('Average Monthly Denial Trend for 5 Years', size=20)\n",
    "plt.savefig('Average Monthly Denial Trend.png', dpi=300, bbox_inches='tight')\n",
    "plt.grid(True)\n",
    "plt.gcf().autofmt_xdate()\n",
    "date_format = mpl_dates.DateFormatter('%b %Y')\n",
    "plt.gca().xaxis.set_major_formatter(date_format)"
   ]
  },
  {
   "cell_type": "code",
   "execution_count": 38,
   "metadata": {},
   "outputs": [
    {
     "data": {
      "text/plain": [
       "487"
      ]
     },
     "execution_count": 38,
     "metadata": {},
     "output_type": "execute_result"
    }
   ],
   "source": [
    "data['Payor'].nunique()"
   ]
  },
  {
   "cell_type": "code",
   "execution_count": null,
   "metadata": {},
   "outputs": [],
   "source": [
    "# Plot the yearly data point to ascertain the Monthly trend\n",
    "plt.figure(figsize=(15,8))\n",
    "plt.plot(data_monthly.index, data_monthly['Charge'], marker='o')\n",
    "plt.xlabel('Year', size=20)\n",
    "plt.ylabel('Charge', size=20)\n",
    "plt.title('Average Monthly Denial Trend for 5 Years', size=20)\n",
    "plt.savefig('Average Monthly Denial Trend.png', dpi=300, bbox_inches='tight')\n",
    "plt.grid(True)\n",
    "plt.gcf().autofmt_xdate()\n",
    "date_format = mpl_dates.DateFormatter('%b %Y')\n",
    "plt.gca().xaxis.set_major_formatter(date_format)"
   ]
  },
  {
   "cell_type": "code",
   "execution_count": 39,
   "metadata": {},
   "outputs": [],
   "source": [
    "# Top 10 Payors with the highest charges\n",
    "grp_payors = data.groupby('Payor')\n",
    "df_top_10_denial_payors = grp_payors[['Charge']].sum().nlargest(5, columns='Charge')\n",
    "#df_top_10_denial_payors"
   ]
  },
  {
   "cell_type": "code",
   "execution_count": 40,
   "metadata": {},
   "outputs": [
    {
     "data": {
      "image/png": "[encoded data removed]",
      "text/plain": [
       "<Figure size 1080x576 with 1 Axes>"
      ]
     },
     "metadata": {},
     "output_type": "display_data"
    }
   ],
   "source": [
    "plt.figure(figsize=(15,8))\n",
    "my_labels = 'MediCARE AK LMAK','Medicare PA','Horizon NJ Health','Medicare WV Urban','Medicaid WV'\n",
    "#my_labels = 'MediCARE AK LMAK','Medicare PA','Horizon NJ Health','Medicare WV Urban','Medicaid WV','Medicare WV','Medicaid OK','Blue Cross and Blue Shield of West Virginia','Security Blue (MEDICARE HMO)','Medicare OK'\n",
    "my_colors = ['blue','red','green']\n",
    "#my_explode = (0, 0.1, 0)-\n",
    "plt.pie(df_top_10_denial_payors, labels=my_labels, autopct='%1.1f%%', startangle=90, shadow = False, colors=my_colors)\n",
    "plt.title('Top 5 Payors with High Denial Charges', size=20)\n",
    "plt.axis('equal')\n",
    "plt.savefig('Top 5 Payors with High Denial Charges.png', dpi=300, bbox_inches='tight')\n",
    "plt.legend(loc='upper left')\n",
    "plt.show()"
   ]
  },
  {
   "cell_type": "markdown",
   "metadata": {},
   "source": [
    "### Payor Percentage Denial Per Year"
   ]
  },
  {
   "cell_type": "code",
   "execution_count": 19,
   "metadata": {},
   "outputs": [],
   "source": [
    "data['Month'] = data['Trip Date'].dt.month\n",
    "data['Year'] = data['Trip Date'].dt.year"
   ]
  },
  {
   "cell_type": "code",
   "execution_count": 20,
   "metadata": {},
   "outputs": [],
   "source": [
    "# Extract the needed columns\n",
    "percent_denial_yr = data[['Payor', 'Charge', 'Year', 'Month']]"
   ]
  },
  {
   "cell_type": "code",
   "execution_count": 27,
   "metadata": {},
   "outputs": [],
   "source": [
    "#percent_denial_yr.head()"
   ]
  },
  {
   "cell_type": "code",
   "execution_count": 21,
   "metadata": {},
   "outputs": [
    {
     "data": {
      "text/plain": [
       "2019    15523\n",
       "2018    10405\n",
       "2020     8094\n",
       "2017     5014\n",
       "2021     1190\n",
       "Name: Year, dtype: int64"
      ]
     },
     "execution_count": 21,
     "metadata": {},
     "output_type": "execute_result"
    }
   ],
   "source": [
    "percent_denial_yr['Year'].value_counts()"
   ]
  },
  {
   "cell_type": "code",
   "execution_count": 22,
   "metadata": {},
   "outputs": [],
   "source": [
    "# filter data for the top 5 Payors, gotten from the above grouping done \n",
    "\n",
    "percent_denial_yr_2 = percent_denial_yr['Payor'].isin(['MediCARE AK LMAK', 'Medicare PA', 'Horizon NJ Health', 'Medicare WV Urban'])\n",
    "df_percent_denial_yr = percent_denial_yr.loc[percent_denial_yr_2]\n",
    "#df_percent_denial_yr"
   ]
  },
  {
   "cell_type": "code",
   "execution_count": 23,
   "metadata": {},
   "outputs": [
    {
     "data": {
      "text/html": [
       "<div>\n",
       "<style scoped>\n",
       "    .dataframe tbody tr th:only-of-type {\n",
       "        vertical-align: middle;\n",
       "    }\n",
       "\n",
       "    .dataframe tbody tr th {\n",
       "        vertical-align: top;\n",
       "    }\n",
       "\n",
       "    .dataframe thead th {\n",
       "        text-align: right;\n",
       "    }\n",
       "</style>\n",
       "<table border=\"1\" class=\"dataframe\">\n",
       "  <thead>\n",
       "    <tr style=\"text-align: right;\">\n",
       "      <th></th>\n",
       "      <th>Payor</th>\n",
       "      <th>Charge</th>\n",
       "      <th>Year</th>\n",
       "      <th>Month</th>\n",
       "    </tr>\n",
       "  </thead>\n",
       "  <tbody>\n",
       "    <tr>\n",
       "      <th>39269</th>\n",
       "      <td>MediCARE AK LMAK</td>\n",
       "      <td>1029.0</td>\n",
       "      <td>2021</td>\n",
       "      <td>1</td>\n",
       "    </tr>\n",
       "    <tr>\n",
       "      <th>39997</th>\n",
       "      <td>MediCARE AK LMAK</td>\n",
       "      <td>990.0</td>\n",
       "      <td>2021</td>\n",
       "      <td>2</td>\n",
       "    </tr>\n",
       "    <tr>\n",
       "      <th>40165</th>\n",
       "      <td>Medicare PA</td>\n",
       "      <td>1581.0</td>\n",
       "      <td>2021</td>\n",
       "      <td>3</td>\n",
       "    </tr>\n",
       "    <tr>\n",
       "      <th>39790</th>\n",
       "      <td>Medicare PA</td>\n",
       "      <td>0.0</td>\n",
       "      <td>2021</td>\n",
       "      <td>2</td>\n",
       "    </tr>\n",
       "    <tr>\n",
       "      <th>39793</th>\n",
       "      <td>MediCARE AK LMAK</td>\n",
       "      <td>1029.0</td>\n",
       "      <td>2021</td>\n",
       "      <td>2</td>\n",
       "    </tr>\n",
       "    <tr>\n",
       "      <th>39273</th>\n",
       "      <td>MediCARE AK LMAK</td>\n",
       "      <td>1029.0</td>\n",
       "      <td>2021</td>\n",
       "      <td>1</td>\n",
       "    </tr>\n",
       "  </tbody>\n",
       "</table>\n",
       "</div>"
      ],
      "text/plain": [
       "                  Payor  Charge  Year  Month\n",
       "39269  MediCARE AK LMAK  1029.0  2021      1\n",
       "39997  MediCARE AK LMAK   990.0  2021      2\n",
       "40165       Medicare PA  1581.0  2021      3\n",
       "39790       Medicare PA     0.0  2021      2\n",
       "39793  MediCARE AK LMAK  1029.0  2021      2\n",
       "39273  MediCARE AK LMAK  1029.0  2021      1"
      ]
     },
     "execution_count": 23,
     "metadata": {},
     "output_type": "execute_result"
    }
   ],
   "source": [
    "# Createa yearly dataframe\n",
    "\n",
    "df_2017denial = df_percent_denial_yr['Year']==2017\n",
    "df_2017_denial = df_percent_denial_yr.loc[df_2017denial]\n",
    "#df_2017_denial.sample(6)\n",
    "\n",
    "df_2018denial = df_percent_denial_yr['Year']==2018\n",
    "df_2018_denial = df_percent_denial_yr.loc[df_2018denial]\n",
    "#df_2018_denial.sample(6)\n",
    "\n",
    "df_2019denial = df_percent_denial_yr['Year']==2019\n",
    "df_2019_denial = df_percent_denial_yr.loc[df_2019denial]\n",
    "#df_2019_denial.sample(6)\n",
    "\n",
    "df_2020denial = df_percent_denial_yr['Year']==2020\n",
    "df_2020_denial = df_percent_denial_yr.loc[df_2020denial]\n",
    "#df_2020_denial.sample(6)\n",
    "\n",
    "df_2021denial = df_percent_denial_yr['Year']==2021\n",
    "df_2021_denial = df_percent_denial_yr.loc[df_2021denial]\n",
    "df_2021_denial.sample(6)"
   ]
  },
  {
   "cell_type": "code",
   "execution_count": 24,
   "metadata": {},
   "outputs": [
    {
     "data": {
      "text/html": [
       "<div>\n",
       "<style scoped>\n",
       "    .dataframe tbody tr th:only-of-type {\n",
       "        vertical-align: middle;\n",
       "    }\n",
       "\n",
       "    .dataframe tbody tr th {\n",
       "        vertical-align: top;\n",
       "    }\n",
       "\n",
       "    .dataframe thead th {\n",
       "        text-align: right;\n",
       "    }\n",
       "</style>\n",
       "<table border=\"1\" class=\"dataframe\">\n",
       "  <thead>\n",
       "    <tr style=\"text-align: right;\">\n",
       "      <th></th>\n",
       "      <th>Payor</th>\n",
       "      <th>Charge</th>\n",
       "    </tr>\n",
       "  </thead>\n",
       "  <tbody>\n",
       "    <tr>\n",
       "      <th>0</th>\n",
       "      <td>Horizon NJ Health</td>\n",
       "      <td>1212455.0</td>\n",
       "    </tr>\n",
       "    <tr>\n",
       "      <th>1</th>\n",
       "      <td>MediCARE AK LMAK</td>\n",
       "      <td>1194508.0</td>\n",
       "    </tr>\n",
       "    <tr>\n",
       "      <th>2</th>\n",
       "      <td>Medicare PA</td>\n",
       "      <td>1145972.0</td>\n",
       "    </tr>\n",
       "  </tbody>\n",
       "</table>\n",
       "</div>"
      ],
      "text/plain": [
       "               Payor     Charge\n",
       "0  Horizon NJ Health  1212455.0\n",
       "1   MediCARE AK LMAK  1194508.0\n",
       "2        Medicare PA  1145972.0"
      ]
     },
     "execution_count": 24,
     "metadata": {},
     "output_type": "execute_result"
    }
   ],
   "source": [
    "grp_payor_denial=df_2017_denial.groupby('Payor')['Charge'].sum()\n",
    "grp_p = grp_payor_denial.reset_index()\n",
    "grp_p"
   ]
  },
  {
   "cell_type": "code",
   "execution_count": 25,
   "metadata": {},
   "outputs": [],
   "source": [
    "# Group dataframe using the month column\n",
    "grp_2017_denial = df_2017_denial.groupby('Month')['Charge'].sum()\n",
    "grp_2018_denial = df_2018_denial.groupby('Month')['Charge'].sum()\n",
    "grp_2019_denial = df_2019_denial.groupby('Month')['Charge'].sum()\n",
    "grp_2020_denial = df_2020_denial.groupby('Month')['Charge'].sum()\n",
    "grp_2021_denial = df_2021_denial.groupby('Month')['Charge'].sum()"
   ]
  },
  {
   "cell_type": "code",
   "execution_count": 26,
   "metadata": {},
   "outputs": [],
   "source": [
    "# convert series into dataframe and reset index\n",
    "df_grp_2017_months = grp_2017_denial.to_frame().reset_index()\n",
    "df_grp_2018_months = grp_2018_denial.to_frame().reset_index()\n",
    "df_grp_2019_months = grp_2019_denial.to_frame().reset_index()\n",
    "df_grp_2020_months = grp_2020_denial.to_frame().reset_index()\n",
    "df_grp_2021_months = grp_2021_denial.to_frame().reset_index()"
   ]
  },
  {
   "cell_type": "code",
   "execution_count": 27,
   "metadata": {},
   "outputs": [
    {
     "data": {
      "text/html": [
       "<style  type=\"text/css\" >\n",
       "</style><table id=\"T_18a76e8a_d906_11eb_b46c_38b1dbfa0b7c\" ><thead>    <tr>        <th class=\"blank level0\" ></th>        <th class=\"col_heading level0 col0\" >Month</th>        <th class=\"col_heading level0 col1\" >Charge</th>    </tr></thead><tbody>\n",
       "                <tr>\n",
       "                        <th id=\"T_18a76e8a_d906_11eb_b46c_38b1dbfa0b7clevel0_row0\" class=\"row_heading level0 row0\" >count</th>\n",
       "                        <td id=\"T_18a76e8a_d906_11eb_b46c_38b1dbfa0b7crow0_col0\" class=\"data row0 col0\" >12.000</td>\n",
       "                        <td id=\"T_18a76e8a_d906_11eb_b46c_38b1dbfa0b7crow0_col1\" class=\"data row0 col1\" >12.000</td>\n",
       "            </tr>\n",
       "            <tr>\n",
       "                        <th id=\"T_18a76e8a_d906_11eb_b46c_38b1dbfa0b7clevel0_row1\" class=\"row_heading level0 row1\" >mean</th>\n",
       "                        <td id=\"T_18a76e8a_d906_11eb_b46c_38b1dbfa0b7crow1_col0\" class=\"data row1 col0\" >6.500</td>\n",
       "                        <td id=\"T_18a76e8a_d906_11eb_b46c_38b1dbfa0b7crow1_col1\" class=\"data row1 col1\" >578440.333</td>\n",
       "            </tr>\n",
       "            <tr>\n",
       "                        <th id=\"T_18a76e8a_d906_11eb_b46c_38b1dbfa0b7clevel0_row2\" class=\"row_heading level0 row2\" >std</th>\n",
       "                        <td id=\"T_18a76e8a_d906_11eb_b46c_38b1dbfa0b7crow2_col0\" class=\"data row2 col0\" >3.606</td>\n",
       "                        <td id=\"T_18a76e8a_d906_11eb_b46c_38b1dbfa0b7crow2_col1\" class=\"data row2 col1\" >374053.884</td>\n",
       "            </tr>\n",
       "            <tr>\n",
       "                        <th id=\"T_18a76e8a_d906_11eb_b46c_38b1dbfa0b7clevel0_row3\" class=\"row_heading level0 row3\" >min</th>\n",
       "                        <td id=\"T_18a76e8a_d906_11eb_b46c_38b1dbfa0b7crow3_col0\" class=\"data row3 col0\" >1.000</td>\n",
       "                        <td id=\"T_18a76e8a_d906_11eb_b46c_38b1dbfa0b7crow3_col1\" class=\"data row3 col1\" >300623.000</td>\n",
       "            </tr>\n",
       "            <tr>\n",
       "                        <th id=\"T_18a76e8a_d906_11eb_b46c_38b1dbfa0b7clevel0_row4\" class=\"row_heading level0 row4\" >25%</th>\n",
       "                        <td id=\"T_18a76e8a_d906_11eb_b46c_38b1dbfa0b7crow4_col0\" class=\"data row4 col0\" >3.750</td>\n",
       "                        <td id=\"T_18a76e8a_d906_11eb_b46c_38b1dbfa0b7crow4_col1\" class=\"data row4 col1\" >382987.750</td>\n",
       "            </tr>\n",
       "            <tr>\n",
       "                        <th id=\"T_18a76e8a_d906_11eb_b46c_38b1dbfa0b7clevel0_row5\" class=\"row_heading level0 row5\" >50%</th>\n",
       "                        <td id=\"T_18a76e8a_d906_11eb_b46c_38b1dbfa0b7crow5_col0\" class=\"data row5 col0\" >6.500</td>\n",
       "                        <td id=\"T_18a76e8a_d906_11eb_b46c_38b1dbfa0b7crow5_col1\" class=\"data row5 col1\" >457598.500</td>\n",
       "            </tr>\n",
       "            <tr>\n",
       "                        <th id=\"T_18a76e8a_d906_11eb_b46c_38b1dbfa0b7clevel0_row6\" class=\"row_heading level0 row6\" >75%</th>\n",
       "                        <td id=\"T_18a76e8a_d906_11eb_b46c_38b1dbfa0b7crow6_col0\" class=\"data row6 col0\" >9.250</td>\n",
       "                        <td id=\"T_18a76e8a_d906_11eb_b46c_38b1dbfa0b7crow6_col1\" class=\"data row6 col1\" >614659.500</td>\n",
       "            </tr>\n",
       "            <tr>\n",
       "                        <th id=\"T_18a76e8a_d906_11eb_b46c_38b1dbfa0b7clevel0_row7\" class=\"row_heading level0 row7\" >max</th>\n",
       "                        <td id=\"T_18a76e8a_d906_11eb_b46c_38b1dbfa0b7crow7_col0\" class=\"data row7 col0\" >12.000</td>\n",
       "                        <td id=\"T_18a76e8a_d906_11eb_b46c_38b1dbfa0b7crow7_col1\" class=\"data row7 col1\" >1658185.000</td>\n",
       "            </tr>\n",
       "    </tbody></table>"
      ],
      "text/plain": [
       "<pandas.io.formats.style.Styler at 0xab61edf160>"
      ]
     },
     "execution_count": 27,
     "metadata": {},
     "output_type": "execute_result"
    }
   ],
   "source": [
    "df_grp_2018_months.describe().style.format('{:.3f}')"
   ]
  },
  {
   "cell_type": "code",
   "execution_count": 28,
   "metadata": {},
   "outputs": [
    {
     "data": {
      "text/html": [
       "<div>\n",
       "<style scoped>\n",
       "    .dataframe tbody tr th:only-of-type {\n",
       "        vertical-align: middle;\n",
       "    }\n",
       "\n",
       "    .dataframe tbody tr th {\n",
       "        vertical-align: top;\n",
       "    }\n",
       "\n",
       "    .dataframe thead th {\n",
       "        text-align: right;\n",
       "    }\n",
       "</style>\n",
       "<table border=\"1\" class=\"dataframe\">\n",
       "  <thead>\n",
       "    <tr style=\"text-align: right;\">\n",
       "      <th></th>\n",
       "      <th>Month</th>\n",
       "      <th>Charges-2021</th>\n",
       "    </tr>\n",
       "  </thead>\n",
       "  <tbody>\n",
       "    <tr>\n",
       "      <th>0</th>\n",
       "      <td>1</td>\n",
       "      <td>280525.0</td>\n",
       "    </tr>\n",
       "    <tr>\n",
       "      <th>1</th>\n",
       "      <td>2</td>\n",
       "      <td>148123.0</td>\n",
       "    </tr>\n",
       "    <tr>\n",
       "      <th>2</th>\n",
       "      <td>3</td>\n",
       "      <td>32348.0</td>\n",
       "    </tr>\n",
       "  </tbody>\n",
       "</table>\n",
       "</div>"
      ],
      "text/plain": [
       "   Month  Charges-2021\n",
       "0      1      280525.0\n",
       "1      2      148123.0\n",
       "2      3       32348.0"
      ]
     },
     "execution_count": 28,
     "metadata": {},
     "output_type": "execute_result"
    }
   ],
   "source": [
    "# Change column names\n",
    "charges_2017_months = df_grp_2017_months.rename(columns={'Charge':'Charges-2017'})\n",
    "charges_2018_months = df_grp_2018_months.rename(columns={'Charge':'Charges-2018'})\n",
    "charges_2019_months = df_grp_2019_months.rename(columns={'Charge':'Charges-2019'})\n",
    "charges_2020_months = df_grp_2020_months.rename(columns={'Charge':'Charges-2020'})\n",
    "charges_2021_months = df_grp_2021_months.rename(columns={'Charge':'Charges-2021'})\n",
    "charges_2021_months.head()"
   ]
  },
  {
   "cell_type": "markdown",
   "metadata": {},
   "source": [
    "### Combine DataFrame"
   ]
  },
  {
   "cell_type": "code",
   "execution_count": 29,
   "metadata": {},
   "outputs": [
    {
     "data": {
      "text/plain": [
       "Index(['Month', 'Charges-2017'], dtype='object')"
      ]
     },
     "execution_count": 29,
     "metadata": {},
     "output_type": "execute_result"
    }
   ],
   "source": [
    "charges_2017_months.columns"
   ]
  },
  {
   "cell_type": "code",
   "execution_count": 38,
   "metadata": {},
   "outputs": [
    {
     "data": {
      "text/plain": [
       "Index(['Month', 'Charges-2021'], dtype='object')"
      ]
     },
     "execution_count": 38,
     "metadata": {},
     "output_type": "execute_result"
    }
   ],
   "source": [
    "charges_2021_months.columns"
   ]
  },
  {
   "cell_type": "code",
   "execution_count": 30,
   "metadata": {},
   "outputs": [],
   "source": [
    "denial_charges_data_1 = pd.merge(charges_2017_months, charges_2017_months)\n",
    "denial_charges_data_2 = pd.merge(charges_2019_months, charges_2020_months)\n",
    "denial_charges_data_3 = pd.merge(denial_charges_data_1, denial_charges_data_2)"
   ]
  },
  {
   "cell_type": "code",
   "execution_count": 86,
   "metadata": {},
   "outputs": [],
   "source": [
    "#denial_charge = denial_month_data .rename(columns={'Charge':'Total Charge 2017', 'Charge':'Denial Charge 2018'})"
   ]
  },
  {
   "cell_type": "code",
   "execution_count": 31,
   "metadata": {},
   "outputs": [
    {
     "data": {
      "text/html": [
       "<div>\n",
       "<style scoped>\n",
       "    .dataframe tbody tr th:only-of-type {\n",
       "        vertical-align: middle;\n",
       "    }\n",
       "\n",
       "    .dataframe tbody tr th {\n",
       "        vertical-align: top;\n",
       "    }\n",
       "\n",
       "    .dataframe thead th {\n",
       "        text-align: right;\n",
       "    }\n",
       "</style>\n",
       "<table border=\"1\" class=\"dataframe\">\n",
       "  <thead>\n",
       "    <tr style=\"text-align: right;\">\n",
       "      <th></th>\n",
       "      <th>Month</th>\n",
       "      <th>Charges-2017</th>\n",
       "      <th>Charges-2019</th>\n",
       "      <th>Charges-2020</th>\n",
       "    </tr>\n",
       "  </thead>\n",
       "  <tbody>\n",
       "    <tr>\n",
       "      <th>0</th>\n",
       "      <td>1</td>\n",
       "      <td>184040.0</td>\n",
       "      <td>523895.0</td>\n",
       "      <td>606435.0</td>\n",
       "    </tr>\n",
       "    <tr>\n",
       "      <th>1</th>\n",
       "      <td>2</td>\n",
       "      <td>185399.0</td>\n",
       "      <td>526030.0</td>\n",
       "      <td>421196.0</td>\n",
       "    </tr>\n",
       "    <tr>\n",
       "      <th>2</th>\n",
       "      <td>3</td>\n",
       "      <td>166908.0</td>\n",
       "      <td>479370.0</td>\n",
       "      <td>374860.0</td>\n",
       "    </tr>\n",
       "    <tr>\n",
       "      <th>3</th>\n",
       "      <td>4</td>\n",
       "      <td>147843.0</td>\n",
       "      <td>569288.0</td>\n",
       "      <td>307846.0</td>\n",
       "    </tr>\n",
       "    <tr>\n",
       "      <th>4</th>\n",
       "      <td>5</td>\n",
       "      <td>216237.0</td>\n",
       "      <td>769338.0</td>\n",
       "      <td>348968.0</td>\n",
       "    </tr>\n",
       "    <tr>\n",
       "      <th>5</th>\n",
       "      <td>6</td>\n",
       "      <td>205203.0</td>\n",
       "      <td>660658.0</td>\n",
       "      <td>267752.0</td>\n",
       "    </tr>\n",
       "    <tr>\n",
       "      <th>6</th>\n",
       "      <td>7</td>\n",
       "      <td>286498.0</td>\n",
       "      <td>934085.0</td>\n",
       "      <td>283127.0</td>\n",
       "    </tr>\n",
       "    <tr>\n",
       "      <th>7</th>\n",
       "      <td>8</td>\n",
       "      <td>281475.0</td>\n",
       "      <td>971748.0</td>\n",
       "      <td>295215.0</td>\n",
       "    </tr>\n",
       "    <tr>\n",
       "      <th>8</th>\n",
       "      <td>9</td>\n",
       "      <td>293219.0</td>\n",
       "      <td>1151952.0</td>\n",
       "      <td>315552.0</td>\n",
       "    </tr>\n",
       "    <tr>\n",
       "      <th>9</th>\n",
       "      <td>10</td>\n",
       "      <td>235773.0</td>\n",
       "      <td>747297.0</td>\n",
       "      <td>259487.0</td>\n",
       "    </tr>\n",
       "    <tr>\n",
       "      <th>10</th>\n",
       "      <td>11</td>\n",
       "      <td>230945.0</td>\n",
       "      <td>1158695.0</td>\n",
       "      <td>283493.0</td>\n",
       "    </tr>\n",
       "    <tr>\n",
       "      <th>11</th>\n",
       "      <td>12</td>\n",
       "      <td>1119395.0</td>\n",
       "      <td>734276.0</td>\n",
       "      <td>258587.0</td>\n",
       "    </tr>\n",
       "  </tbody>\n",
       "</table>\n",
       "</div>"
      ],
      "text/plain": [
       "    Month  Charges-2017  Charges-2019  Charges-2020\n",
       "0       1      184040.0      523895.0      606435.0\n",
       "1       2      185399.0      526030.0      421196.0\n",
       "2       3      166908.0      479370.0      374860.0\n",
       "3       4      147843.0      569288.0      307846.0\n",
       "4       5      216237.0      769338.0      348968.0\n",
       "5       6      205203.0      660658.0      267752.0\n",
       "6       7      286498.0      934085.0      283127.0\n",
       "7       8      281475.0      971748.0      295215.0\n",
       "8       9      293219.0     1151952.0      315552.0\n",
       "9      10      235773.0      747297.0      259487.0\n",
       "10     11      230945.0     1158695.0      283493.0\n",
       "11     12     1119395.0      734276.0      258587.0"
      ]
     },
     "execution_count": 31,
     "metadata": {},
     "output_type": "execute_result"
    }
   ],
   "source": [
    "denial_charges_data_3.head(12)"
   ]
  },
  {
   "cell_type": "code",
   "execution_count": 109,
   "metadata": {},
   "outputs": [
    {
     "data": {
      "image/png": "[encoded data removed]",
      "text/plain": [
       "<Figure size 936x504 with 1 Axes>"
      ]
     },
     "metadata": {},
     "output_type": "display_data"
    }
   ],
   "source": [
    "plt.figure(figsize=(13,7))\n",
    "plt.plot(denial_charges_data_3['Month'], denial_charges_data_3['Charges-2017'], marker='o', label='2017')\n",
    "plt.plot(denial_charges_data_3['Month'], denial_charges_data_3['Charges-2018'], marker='x', label='2018')\n",
    "plt.plot(denial_charges_data_3['Month'], denial_charges_data_3['Charges-2019'], marker='D', label='2019')\n",
    "plt.plot(denial_charges_data_3['Month'], denial_charges_data_3['Charges-2020'], marker='s', label='2020')\n",
    "plt.title('Monthly Denial Rate By Year', size=18)\n",
    "plt.xlabel('Month', size=18)\n",
    "plt.ylabel('Charges', size=18)\n",
    "plt.savefig('Monthly Denial Rate By Year.png', dpi=300, bbox_inches='tight')\n",
    "plt.legend()\n",
    "plt.show()"
   ]
  }
 ],
 "metadata": {
  "kernelspec": {
   "display_name": "Python 3",
   "language": "python",
   "name": "python3"
  },
  "language_info": {
   "codemirror_mode": {
    "name": "ipython",
    "version": 3
   },
   "file_extension": ".py",
   "mimetype": "text/x-python",
   "name": "python",
   "nbconvert_exporter": "python",
   "pygments_lexer": "ipython3",
   "version": "3.8.8"
  }
 },
 "nbformat": 4,
 "nbformat_minor": 2
}
