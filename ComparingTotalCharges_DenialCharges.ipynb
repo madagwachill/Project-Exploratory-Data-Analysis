{
 "cells": [
  {
   "cell_type": "code",
   "execution_count": 39,
   "metadata": {},
   "outputs": [],
   "source": [
    "import pandas as pd\n",
    "import numpy as np\n",
    "import os\n",
    "import seaborn as sns; sns.set()\n",
    "import matplotlib.pyplot as plt\n",
    "from matplotlib import dates as mpl_dates\n",
    "import datetime as dt\n",
    "import sys\n",
    "import warnings\n",
    "warnings.filterwarnings('ignore')"
   ]
  },
  {
   "cell_type": "code",
   "execution_count": 40,
   "metadata": {},
   "outputs": [
    {
     "data": {
      "text/html": [
       "<div>\n",
       "<style scoped>\n",
       "    .dataframe tbody tr th:only-of-type {\n",
       "        vertical-align: middle;\n",
       "    }\n",
       "\n",
       "    .dataframe tbody tr th {\n",
       "        vertical-align: top;\n",
       "    }\n",
       "\n",
       "    .dataframe thead th {\n",
       "        text-align: right;\n",
       "    }\n",
       "</style>\n",
       "<table border=\"1\" class=\"dataframe\">\n",
       "  <thead>\n",
       "    <tr style=\"text-align: right;\">\n",
       "      <th></th>\n",
       "      <th>Addon</th>\n",
       "      <th>Charge Amount</th>\n",
       "      <th>Charged Amount</th>\n",
       "      <th>Client</th>\n",
       "      <th>Job</th>\n",
       "      <th>Job Number</th>\n",
       "      <th>Occurred Date</th>\n",
       "      <th>Post date</th>\n",
       "      <th>Seq</th>\n",
       "      <th>Tdate</th>\n",
       "    </tr>\n",
       "  </thead>\n",
       "  <tbody>\n",
       "    <tr>\n",
       "      <th>869980</th>\n",
       "      <td>10</td>\n",
       "      <td>13.0</td>\n",
       "      <td>NaN</td>\n",
       "      <td>1</td>\n",
       "      <td>NaN</td>\n",
       "      <td>0301-A</td>\n",
       "      <td>8/21/2018</td>\n",
       "      <td>8/24/2018</td>\n",
       "      <td>1</td>\n",
       "      <td>8/21/2018</td>\n",
       "    </tr>\n",
       "    <tr>\n",
       "      <th>2810666</th>\n",
       "      <td>19</td>\n",
       "      <td>61.6</td>\n",
       "      <td>NaN</td>\n",
       "      <td>3</td>\n",
       "      <td>NaN</td>\n",
       "      <td>0169-A</td>\n",
       "      <td>9/24/2019</td>\n",
       "      <td>9/25/2019</td>\n",
       "      <td>1</td>\n",
       "      <td>9/24/2019</td>\n",
       "    </tr>\n",
       "    <tr>\n",
       "      <th>1243421</th>\n",
       "      <td>2241</td>\n",
       "      <td>105.0</td>\n",
       "      <td>NaN</td>\n",
       "      <td>134</td>\n",
       "      <td>NaN</td>\n",
       "      <td>0627-A</td>\n",
       "      <td>1/11/2021</td>\n",
       "      <td>1/19/2021</td>\n",
       "      <td>3</td>\n",
       "      <td>1/11/2021</td>\n",
       "    </tr>\n",
       "    <tr>\n",
       "      <th>2102868</th>\n",
       "      <td>2092</td>\n",
       "      <td>405.0</td>\n",
       "      <td>NaN</td>\n",
       "      <td>127</td>\n",
       "      <td>NaN</td>\n",
       "      <td>0324-A</td>\n",
       "      <td>1/28/2020</td>\n",
       "      <td>1/31/2020</td>\n",
       "      <td>1</td>\n",
       "      <td>1/28/2020</td>\n",
       "    </tr>\n",
       "    <tr>\n",
       "      <th>3286046</th>\n",
       "      <td>1951</td>\n",
       "      <td>211.6</td>\n",
       "      <td>NaN</td>\n",
       "      <td>116</td>\n",
       "      <td>NaN</td>\n",
       "      <td>0222-A</td>\n",
       "      <td>8/30/2020</td>\n",
       "      <td>9/13/2020</td>\n",
       "      <td>1</td>\n",
       "      <td>8/30/2020</td>\n",
       "    </tr>\n",
       "    <tr>\n",
       "      <th>380223</th>\n",
       "      <td>759</td>\n",
       "      <td>NaN</td>\n",
       "      <td>0.0</td>\n",
       "      <td>30</td>\n",
       "      <td>0326-A</td>\n",
       "      <td>NaN</td>\n",
       "      <td>10/23/2017</td>\n",
       "      <td>10/25/2017</td>\n",
       "      <td>1</td>\n",
       "      <td>10/23/2017</td>\n",
       "    </tr>\n",
       "    <tr>\n",
       "      <th>201903</th>\n",
       "      <td>1264</td>\n",
       "      <td>NaN</td>\n",
       "      <td>900.0</td>\n",
       "      <td>61</td>\n",
       "      <td>0321-A</td>\n",
       "      <td>NaN</td>\n",
       "      <td>6/16/2017</td>\n",
       "      <td>6/20/2017</td>\n",
       "      <td>1</td>\n",
       "      <td>6/16/2017</td>\n",
       "    </tr>\n",
       "    <tr>\n",
       "      <th>252874</th>\n",
       "      <td>1392</td>\n",
       "      <td>NaN</td>\n",
       "      <td>59.4</td>\n",
       "      <td>71</td>\n",
       "      <td>0490-A</td>\n",
       "      <td>NaN</td>\n",
       "      <td>7/23/2017</td>\n",
       "      <td>8/2/2017</td>\n",
       "      <td>1</td>\n",
       "      <td>7/23/2017</td>\n",
       "    </tr>\n",
       "    <tr>\n",
       "      <th>2155595</th>\n",
       "      <td>1561</td>\n",
       "      <td>13.2</td>\n",
       "      <td>NaN</td>\n",
       "      <td>83</td>\n",
       "      <td>NaN</td>\n",
       "      <td>1272-A</td>\n",
       "      <td>2/14/2020</td>\n",
       "      <td>4/1/2020</td>\n",
       "      <td>1</td>\n",
       "      <td>2/14/2020</td>\n",
       "    </tr>\n",
       "    <tr>\n",
       "      <th>2151299</th>\n",
       "      <td>1839</td>\n",
       "      <td>1900.0</td>\n",
       "      <td>NaN</td>\n",
       "      <td>114</td>\n",
       "      <td>NaN</td>\n",
       "      <td>0600-A</td>\n",
       "      <td>2/13/2020</td>\n",
       "      <td>2/17/2020</td>\n",
       "      <td>1</td>\n",
       "      <td>2/13/2020</td>\n",
       "    </tr>\n",
       "  </tbody>\n",
       "</table>\n",
       "</div>"
      ],
      "text/plain": [
       "         Addon  Charge Amount  Charged Amount  Client     Job Job Number  \\\n",
       "869980      10           13.0             NaN       1     NaN     0301-A   \n",
       "2810666     19           61.6             NaN       3     NaN     0169-A   \n",
       "1243421   2241          105.0             NaN     134     NaN     0627-A   \n",
       "2102868   2092          405.0             NaN     127     NaN     0324-A   \n",
       "3286046   1951          211.6             NaN     116     NaN     0222-A   \n",
       "380223     759            NaN             0.0      30  0326-A        NaN   \n",
       "201903    1264            NaN           900.0      61  0321-A        NaN   \n",
       "252874    1392            NaN            59.4      71  0490-A        NaN   \n",
       "2155595   1561           13.2             NaN      83     NaN     1272-A   \n",
       "2151299   1839         1900.0             NaN     114     NaN     0600-A   \n",
       "\n",
       "        Occurred Date   Post date  Seq       Tdate  \n",
       "869980      8/21/2018   8/24/2018    1   8/21/2018  \n",
       "2810666     9/24/2019   9/25/2019    1   9/24/2019  \n",
       "1243421     1/11/2021   1/19/2021    3   1/11/2021  \n",
       "2102868     1/28/2020   1/31/2020    1   1/28/2020  \n",
       "3286046     8/30/2020   9/13/2020    1   8/30/2020  \n",
       "380223     10/23/2017  10/25/2017    1  10/23/2017  \n",
       "201903      6/16/2017   6/20/2017    1   6/16/2017  \n",
       "252874      7/23/2017    8/2/2017    1   7/23/2017  \n",
       "2155595     2/14/2020    4/1/2020    1   2/14/2020  \n",
       "2151299     2/13/2020   2/17/2020    1   2/13/2020  "
      ]
     },
     "execution_count": 40,
     "metadata": {},
     "output_type": "execute_result"
    }
   ],
   "source": [
    "All_charges = pd.read_csv('merge/All_charges.csv')\n",
    "All_charges.sample(10)"
   ]
  },
  {
   "cell_type": "code",
   "execution_count": 41,
   "metadata": {},
   "outputs": [
    {
     "name": "stdout",
     "output_type": "stream",
     "text": [
      "\n",
      "The Charge table contains 3676059 samples and 10 variables\n"
     ]
    }
   ],
   "source": [
    "print(f'\\nThe Charge table contains {All_charges.shape[0]} samples and {All_charges.shape[1]} variables')"
   ]
  },
  {
   "cell_type": "code",
   "execution_count": 42,
   "metadata": {},
   "outputs": [
    {
     "data": {
      "text/plain": [
       "Addon               int64\n",
       "Charge Amount     float64\n",
       "Charged Amount    float64\n",
       "Client              int64\n",
       "Job                object\n",
       "Job Number         object\n",
       "Occurred Date      object\n",
       "Post date          object\n",
       "Seq                 int64\n",
       "Tdate              object\n",
       "dtype: object"
      ]
     },
     "execution_count": 42,
     "metadata": {},
     "output_type": "execute_result"
    }
   ],
   "source": [
    "All_charges.dtypes"
   ]
  },
  {
   "cell_type": "code",
   "execution_count": 43,
   "metadata": {},
   "outputs": [
    {
     "data": {
      "text/plain": [
       "Addon                   0\n",
       "Charge Amount      486367\n",
       "Charged Amount    3189692\n",
       "Client                  0\n",
       "Job               3189692\n",
       "Job Number         486367\n",
       "Occurred Date           0\n",
       "Post date               0\n",
       "Seq                     0\n",
       "Tdate                   0\n",
       "dtype: int64"
      ]
     },
     "execution_count": 43,
     "metadata": {},
     "output_type": "execute_result"
    }
   ],
   "source": [
    "# check for null values\n",
    "All_charges.isnull().sum()"
   ]
  },
  {
   "cell_type": "code",
   "execution_count": 6,
   "metadata": {},
   "outputs": [],
   "source": [
    "# drop all rows with null values from the columns list\n",
    "#All_charges.dropna(subset=['Charge Amount', 'Charged Amount', 'Job', 'Job Number'], how='any', inplace=True)"
   ]
  },
  {
   "cell_type": "code",
   "execution_count": 11,
   "metadata": {},
   "outputs": [],
   "source": [
    "#All_charges.isnull().sum()"
   ]
  },
  {
   "cell_type": "code",
   "execution_count": 44,
   "metadata": {},
   "outputs": [],
   "source": [
    "# Convert Tdate column to datetime\n",
    "All_charges['Tdate'] = pd.to_datetime(All_charges['Tdate'])"
   ]
  },
  {
   "cell_type": "code",
   "execution_count": 45,
   "metadata": {},
   "outputs": [
    {
     "data": {
      "text/plain": [
       "(3676059, 10)"
      ]
     },
     "execution_count": 45,
     "metadata": {},
     "output_type": "execute_result"
    }
   ],
   "source": [
    "All_charges.shape"
   ]
  },
  {
   "cell_type": "code",
   "execution_count": 46,
   "metadata": {},
   "outputs": [
    {
     "data": {
      "text/plain": [
       "1564"
      ]
     },
     "execution_count": 46,
     "metadata": {},
     "output_type": "execute_result"
    }
   ],
   "source": [
    "# Check for unique values\n",
    "All_charges['Tdate'].nunique()"
   ]
  },
  {
   "cell_type": "markdown",
   "metadata": {},
   "source": [
    "#### Create a Month Column"
   ]
  },
  {
   "cell_type": "code",
   "execution_count": 47,
   "metadata": {},
   "outputs": [],
   "source": [
    "All_charges['month'] = All_charges['Tdate'].dt.month \n",
    "All_charges['Year'] = All_charges['Tdate'].dt.year"
   ]
  },
  {
   "cell_type": "code",
   "execution_count": 48,
   "metadata": {},
   "outputs": [
    {
     "data": {
      "text/plain": [
       "2020    1096772\n",
       "2019    1075310\n",
       "2018     725300\n",
       "2017     486367\n",
       "2021     292310\n",
       "Name: Year, dtype: int64"
      ]
     },
     "execution_count": 48,
     "metadata": {},
     "output_type": "execute_result"
    }
   ],
   "source": [
    "All_charges['Year'].value_counts()"
   ]
  },
  {
   "cell_type": "code",
   "execution_count": 49,
   "metadata": {},
   "outputs": [
    {
     "data": {
      "text/plain": [
       "Index(['Addon', 'Charge Amount', 'Charged Amount', 'Client', 'Job',\n",
       "       'Job Number', 'Occurred Date', 'Post date', 'Seq', 'Tdate', 'month',\n",
       "       'Year'],\n",
       "      dtype='object')"
      ]
     },
     "execution_count": 49,
     "metadata": {},
     "output_type": "execute_result"
    }
   ],
   "source": [
    "All_charges.columns"
   ]
  },
  {
   "cell_type": "code",
   "execution_count": 102,
   "metadata": {},
   "outputs": [],
   "source": [
    "All_charges_1 = All_charges['Year']== 2019\n",
    "df_All_charges = All_charges.loc[All_charges_1]\n",
    "#df_All_charges.sample(6)"
   ]
  },
  {
   "cell_type": "code",
   "execution_count": 103,
   "metadata": {},
   "outputs": [],
   "source": [
    "# Group dataframe using the month column\n",
    "charge_grp_month = All_charges.groupby('month')['Charged Amount'].sum()"
   ]
  },
  {
   "cell_type": "code",
   "execution_count": 104,
   "metadata": {},
   "outputs": [
    {
     "data": {
      "text/plain": [
       "pandas.core.series.Series"
      ]
     },
     "execution_count": 104,
     "metadata": {},
     "output_type": "execute_result"
    }
   ],
   "source": [
    "type(charge_grp_month)"
   ]
  },
  {
   "cell_type": "code",
   "execution_count": 105,
   "metadata": {},
   "outputs": [],
   "source": [
    "# convert series into dataframe, reset index and rename columns\n",
    "df_charge_grp_month = charge_grp_month.to_frame().rename(columns={'month':'Month', 'Charged Amount':'Charges'}).reset_index()"
   ]
  },
  {
   "cell_type": "code",
   "execution_count": 106,
   "metadata": {},
   "outputs": [
    {
     "data": {
      "text/html": [
       "<div>\n",
       "<style scoped>\n",
       "    .dataframe tbody tr th:only-of-type {\n",
       "        vertical-align: middle;\n",
       "    }\n",
       "\n",
       "    .dataframe tbody tr th {\n",
       "        vertical-align: top;\n",
       "    }\n",
       "\n",
       "    .dataframe thead th {\n",
       "        text-align: right;\n",
       "    }\n",
       "</style>\n",
       "<table border=\"1\" class=\"dataframe\">\n",
       "  <thead>\n",
       "    <tr style=\"text-align: right;\">\n",
       "      <th></th>\n",
       "      <th>month</th>\n",
       "      <th>Charges</th>\n",
       "    </tr>\n",
       "  </thead>\n",
       "  <tbody>\n",
       "    <tr>\n",
       "      <th>0</th>\n",
       "      <td>1</td>\n",
       "      <td>49623976.8</td>\n",
       "    </tr>\n",
       "    <tr>\n",
       "      <th>1</th>\n",
       "      <td>2</td>\n",
       "      <td>52746130.0</td>\n",
       "    </tr>\n",
       "    <tr>\n",
       "      <th>2</th>\n",
       "      <td>3</td>\n",
       "      <td>58522775.6</td>\n",
       "    </tr>\n",
       "    <tr>\n",
       "      <th>3</th>\n",
       "      <td>4</td>\n",
       "      <td>60841678.0</td>\n",
       "    </tr>\n",
       "    <tr>\n",
       "      <th>4</th>\n",
       "      <td>5</td>\n",
       "      <td>64696990.0</td>\n",
       "    </tr>\n",
       "  </tbody>\n",
       "</table>\n",
       "</div>"
      ],
      "text/plain": [
       "   month     Charges\n",
       "0      1  49623976.8\n",
       "1      2  52746130.0\n",
       "2      3  58522775.6\n",
       "3      4  60841678.0\n",
       "4      5  64696990.0"
      ]
     },
     "execution_count": 106,
     "metadata": {},
     "output_type": "execute_result"
    }
   ],
   "source": [
    "df_charge_grp_month.head()"
   ]
  },
  {
   "cell_type": "code",
   "execution_count": 108,
   "metadata": {},
   "outputs": [
    {
     "data": {
      "text/html": [
       "<style  type=\"text/css\" >\n",
       "</style><table id=\"T_b94001da_d918_11eb_8204_38b1dbfa0b7c\" ><thead>    <tr>        <th class=\"blank level0\" ></th>        <th class=\"col_heading level0 col0\" >month</th>        <th class=\"col_heading level0 col1\" >Charges</th>    </tr></thead><tbody>\n",
       "                <tr>\n",
       "                        <th id=\"T_b94001da_d918_11eb_8204_38b1dbfa0b7clevel0_row0\" class=\"row_heading level0 row0\" >count</th>\n",
       "                        <td id=\"T_b94001da_d918_11eb_8204_38b1dbfa0b7crow0_col0\" class=\"data row0 col0\" >12.000</td>\n",
       "                        <td id=\"T_b94001da_d918_11eb_8204_38b1dbfa0b7crow0_col1\" class=\"data row0 col1\" >12.000</td>\n",
       "            </tr>\n",
       "            <tr>\n",
       "                        <th id=\"T_b94001da_d918_11eb_8204_38b1dbfa0b7clevel0_row1\" class=\"row_heading level0 row1\" >mean</th>\n",
       "                        <td id=\"T_b94001da_d918_11eb_8204_38b1dbfa0b7crow1_col0\" class=\"data row1 col0\" >6.500</td>\n",
       "                        <td id=\"T_b94001da_d918_11eb_8204_38b1dbfa0b7crow1_col1\" class=\"data row1 col1\" >64474574.258</td>\n",
       "            </tr>\n",
       "            <tr>\n",
       "                        <th id=\"T_b94001da_d918_11eb_8204_38b1dbfa0b7clevel0_row2\" class=\"row_heading level0 row2\" >std</th>\n",
       "                        <td id=\"T_b94001da_d918_11eb_8204_38b1dbfa0b7crow2_col0\" class=\"data row2 col0\" >3.606</td>\n",
       "                        <td id=\"T_b94001da_d918_11eb_8204_38b1dbfa0b7crow2_col1\" class=\"data row2 col1\" >7800048.677</td>\n",
       "            </tr>\n",
       "            <tr>\n",
       "                        <th id=\"T_b94001da_d918_11eb_8204_38b1dbfa0b7clevel0_row3\" class=\"row_heading level0 row3\" >min</th>\n",
       "                        <td id=\"T_b94001da_d918_11eb_8204_38b1dbfa0b7crow3_col0\" class=\"data row3 col0\" >1.000</td>\n",
       "                        <td id=\"T_b94001da_d918_11eb_8204_38b1dbfa0b7crow3_col1\" class=\"data row3 col1\" >49623976.800</td>\n",
       "            </tr>\n",
       "            <tr>\n",
       "                        <th id=\"T_b94001da_d918_11eb_8204_38b1dbfa0b7clevel0_row4\" class=\"row_heading level0 row4\" >25%</th>\n",
       "                        <td id=\"T_b94001da_d918_11eb_8204_38b1dbfa0b7crow4_col0\" class=\"data row4 col0\" >3.750</td>\n",
       "                        <td id=\"T_b94001da_d918_11eb_8204_38b1dbfa0b7crow4_col1\" class=\"data row4 col1\" >60261952.400</td>\n",
       "            </tr>\n",
       "            <tr>\n",
       "                        <th id=\"T_b94001da_d918_11eb_8204_38b1dbfa0b7clevel0_row5\" class=\"row_heading level0 row5\" >50%</th>\n",
       "                        <td id=\"T_b94001da_d918_11eb_8204_38b1dbfa0b7crow5_col0\" class=\"data row5 col0\" >6.500</td>\n",
       "                        <td id=\"T_b94001da_d918_11eb_8204_38b1dbfa0b7crow5_col1\" class=\"data row5 col1\" >66035164.400</td>\n",
       "            </tr>\n",
       "            <tr>\n",
       "                        <th id=\"T_b94001da_d918_11eb_8204_38b1dbfa0b7clevel0_row6\" class=\"row_heading level0 row6\" >75%</th>\n",
       "                        <td id=\"T_b94001da_d918_11eb_8204_38b1dbfa0b7crow6_col0\" class=\"data row6 col0\" >9.250</td>\n",
       "                        <td id=\"T_b94001da_d918_11eb_8204_38b1dbfa0b7crow6_col1\" class=\"data row6 col1\" >68794632.650</td>\n",
       "            </tr>\n",
       "            <tr>\n",
       "                        <th id=\"T_b94001da_d918_11eb_8204_38b1dbfa0b7clevel0_row7\" class=\"row_heading level0 row7\" >max</th>\n",
       "                        <td id=\"T_b94001da_d918_11eb_8204_38b1dbfa0b7crow7_col0\" class=\"data row7 col0\" >12.000</td>\n",
       "                        <td id=\"T_b94001da_d918_11eb_8204_38b1dbfa0b7crow7_col1\" class=\"data row7 col1\" >75104103.900</td>\n",
       "            </tr>\n",
       "    </tbody></table>"
      ],
      "text/plain": [
       "<pandas.io.formats.style.Styler at 0xfda2e449b0>"
      ]
     },
     "execution_count": 108,
     "metadata": {},
     "output_type": "execute_result"
    }
   ],
   "source": [
    "df_charge_grp_month.describe().style.format('{:.3f}')"
   ]
  },
  {
   "cell_type": "markdown",
   "metadata": {},
   "source": [
    "### Client Denial Table"
   ]
  },
  {
   "cell_type": "code",
   "execution_count": 58,
   "metadata": {},
   "outputs": [
    {
     "data": {
      "text/html": [
       "<div>\n",
       "<style scoped>\n",
       "    .dataframe tbody tr th:only-of-type {\n",
       "        vertical-align: middle;\n",
       "    }\n",
       "\n",
       "    .dataframe tbody tr th {\n",
       "        vertical-align: top;\n",
       "    }\n",
       "\n",
       "    .dataframe thead th {\n",
       "        text-align: right;\n",
       "    }\n",
       "</style>\n",
       "<table border=\"1\" class=\"dataframe\">\n",
       "  <thead>\n",
       "    <tr style=\"text-align: right;\">\n",
       "      <th></th>\n",
       "      <th>Trip Date</th>\n",
       "      <th>Job Number</th>\n",
       "      <th>Database</th>\n",
       "      <th>Client Code</th>\n",
       "      <th>Client</th>\n",
       "      <th>Service Type: Name</th>\n",
       "      <th>Market Type</th>\n",
       "      <th>Payor Code</th>\n",
       "      <th>Payor</th>\n",
       "      <th>Trip Status</th>\n",
       "      <th>Call Type</th>\n",
       "      <th>Response Priority</th>\n",
       "      <th>Charge</th>\n",
       "      <th>Post Date</th>\n",
       "      <th>Check Date</th>\n",
       "      <th>Deposit Date</th>\n",
       "      <th>Batch Number</th>\n",
       "      <th>Denial Code</th>\n",
       "      <th>Denial Reason Code</th>\n",
       "      <th>Denial Reason Descr</th>\n",
       "    </tr>\n",
       "  </thead>\n",
       "  <tbody>\n",
       "    <tr>\n",
       "      <th>0</th>\n",
       "      <td>1/1/2017</td>\n",
       "      <td>0209-A</td>\n",
       "      <td>PIT</td>\n",
       "      <td>38</td>\n",
       "      <td>HealthNet Aeromedical Services</td>\n",
       "      <td>Ground Transport</td>\n",
       "      <td>Municipal: Fire Based</td>\n",
       "      <td>8229</td>\n",
       "      <td>Medicare WV Rural</td>\n",
       "      <td>Closed</td>\n",
       "      <td>Rotor</td>\n",
       "      <td>Emergency</td>\n",
       "      <td>0.0</td>\n",
       "      <td>2/16/2017</td>\n",
       "      <td>NaN</td>\n",
       "      <td>2/15/2017</td>\n",
       "      <td>0</td>\n",
       "      <td>76</td>\n",
       "      <td>CO16</td>\n",
       "      <td>Claim/service lacks information which is neede...</td>\n",
       "    </tr>\n",
       "    <tr>\n",
       "      <th>1</th>\n",
       "      <td>1/1/2017</td>\n",
       "      <td>0372-A</td>\n",
       "      <td>PIT</td>\n",
       "      <td>47</td>\n",
       "      <td>Canonsburg General Hospital Ambulance Service</td>\n",
       "      <td>Ground Transport</td>\n",
       "      <td>Hospital-based</td>\n",
       "      <td>22</td>\n",
       "      <td>United Healthcare (30555) Commercial</td>\n",
       "      <td>Closed</td>\n",
       "      <td>BLS</td>\n",
       "      <td>Emergency</td>\n",
       "      <td>0.0</td>\n",
       "      <td>11/13/2017</td>\n",
       "      <td>NaN</td>\n",
       "      <td>11/10/2017</td>\n",
       "      <td>0</td>\n",
       "      <td>135</td>\n",
       "      <td>PR27</td>\n",
       "      <td>Expenses incurred after coverage terminated.</td>\n",
       "    </tr>\n",
       "    <tr>\n",
       "      <th>2</th>\n",
       "      <td>1/1/2017</td>\n",
       "      <td>0226-A</td>\n",
       "      <td>PIT</td>\n",
       "      <td>35</td>\n",
       "      <td>WCA Services Corporation</td>\n",
       "      <td>Ground Transport</td>\n",
       "      <td>Municipal: Fire Based</td>\n",
       "      <td>7697</td>\n",
       "      <td>14-Erie Co Medicaid</td>\n",
       "      <td>Closed</td>\n",
       "      <td>Rotor</td>\n",
       "      <td>Flight</td>\n",
       "      <td>0.0</td>\n",
       "      <td>5/19/2017</td>\n",
       "      <td>5/1/2017</td>\n",
       "      <td>5/18/2017</td>\n",
       "      <td>0</td>\n",
       "      <td>2825</td>\n",
       "      <td>68</td>\n",
       "      <td>Claim submission date not within required time...</td>\n",
       "    </tr>\n",
       "  </tbody>\n",
       "</table>\n",
       "</div>"
      ],
      "text/plain": [
       "  Trip Date Job Number Database  Client Code  \\\n",
       "0  1/1/2017     0209-A      PIT           38   \n",
       "1  1/1/2017     0372-A      PIT           47   \n",
       "2  1/1/2017     0226-A      PIT           35   \n",
       "\n",
       "                                          Client Service Type: Name  \\\n",
       "0                 HealthNet Aeromedical Services   Ground Transport   \n",
       "1  Canonsburg General Hospital Ambulance Service   Ground Transport   \n",
       "2                       WCA Services Corporation   Ground Transport   \n",
       "\n",
       "             Market Type  Payor Code                                 Payor  \\\n",
       "0  Municipal: Fire Based        8229                     Medicare WV Rural   \n",
       "1         Hospital-based          22  United Healthcare (30555) Commercial   \n",
       "2  Municipal: Fire Based        7697                   14-Erie Co Medicaid   \n",
       "\n",
       "  Trip Status Call Type Response Priority  Charge   Post Date Check Date  \\\n",
       "0      Closed     Rotor         Emergency     0.0   2/16/2017        NaN   \n",
       "1      Closed       BLS         Emergency     0.0  11/13/2017        NaN   \n",
       "2      Closed     Rotor            Flight     0.0   5/19/2017   5/1/2017   \n",
       "\n",
       "  Deposit Date  Batch Number  Denial Code Denial Reason Code  \\\n",
       "0    2/15/2017             0           76               CO16   \n",
       "1   11/10/2017             0          135               PR27   \n",
       "2    5/18/2017             0         2825                 68   \n",
       "\n",
       "                                 Denial Reason Descr  \n",
       "0  Claim/service lacks information which is neede...  \n",
       "1       Expenses incurred after coverage terminated.  \n",
       "2  Claim submission date not within required time...  "
      ]
     },
     "execution_count": 58,
     "metadata": {},
     "output_type": "execute_result"
    }
   ],
   "source": [
    "client_denial_information = pd.read_csv('data/5_Tables_that_includes_denial_information_by_client_and_payor_type.csv')\n",
    "client_denial_information.head(3)"
   ]
  },
  {
   "cell_type": "code",
   "execution_count": 59,
   "metadata": {},
   "outputs": [
    {
     "name": "stdout",
     "output_type": "stream",
     "text": [
      "\n",
      "The Client denial table contains 456421 samples and 20 variables\n"
     ]
    }
   ],
   "source": [
    "print(f'\\nThe Client denial table contains {client_denial_information.shape[0]} samples and {client_denial_information.shape[1]} variables')"
   ]
  },
  {
   "cell_type": "code",
   "execution_count": 22,
   "metadata": {},
   "outputs": [
    {
     "data": {
      "text/plain": [
       "Trip Date               object\n",
       "Job Number              object\n",
       "Database                object\n",
       "Client Code              int64\n",
       "Client                  object\n",
       "Service Type: Name      object\n",
       "Market Type             object\n",
       "Payor Code               int64\n",
       "Payor                   object\n",
       "Trip Status             object\n",
       "Call Type               object\n",
       "Response Priority       object\n",
       "Charge                 float64\n",
       "Post Date               object\n",
       "Check Date              object\n",
       "Deposit Date            object\n",
       "Batch Number             int64\n",
       "Denial Code              int64\n",
       "Denial Reason Code      object\n",
       "Denial Reason Descr     object\n",
       "dtype: object"
      ]
     },
     "execution_count": 22,
     "metadata": {},
     "output_type": "execute_result"
    }
   ],
   "source": [
    "client_denial_information.dtypes"
   ]
  },
  {
   "cell_type": "code",
   "execution_count": 60,
   "metadata": {},
   "outputs": [],
   "source": [
    "client_denial_information['Trip Date'] = pd.to_datetime(client_denial_information['Trip Date'])"
   ]
  },
  {
   "cell_type": "code",
   "execution_count": 21,
   "metadata": {},
   "outputs": [],
   "source": [
    "#client_denial_information.dtypes"
   ]
  },
  {
   "cell_type": "code",
   "execution_count": 61,
   "metadata": {},
   "outputs": [
    {
     "data": {
      "text/plain": [
       "(456421, 20)"
      ]
     },
     "execution_count": 61,
     "metadata": {},
     "output_type": "execute_result"
    }
   ],
   "source": [
    "client_denial_information.shape"
   ]
  },
  {
   "cell_type": "code",
   "execution_count": 62,
   "metadata": {},
   "outputs": [
    {
     "data": {
      "text/plain": [
       "Trip Date                   0\n",
       "Job Number                  0\n",
       "Database                    0\n",
       "Client Code                 0\n",
       "Client                      0\n",
       "Service Type: Name      94028\n",
       "Market Type             94028\n",
       "Payor Code                  0\n",
       "Payor                       0\n",
       "Trip Status                 0\n",
       "Call Type                   0\n",
       "Response Priority           0\n",
       "Charge                 123760\n",
       "Post Date                   0\n",
       "Check Date             124321\n",
       "Deposit Date                0\n",
       "Batch Number                0\n",
       "Denial Code                 0\n",
       "Denial Reason Code       9357\n",
       "Denial Reason Descr         0\n",
       "dtype: int64"
      ]
     },
     "execution_count": 62,
     "metadata": {},
     "output_type": "execute_result"
    }
   ],
   "source": [
    "client_denial_information.isnull().sum()"
   ]
  },
  {
   "cell_type": "code",
   "execution_count": 63,
   "metadata": {},
   "outputs": [
    {
     "data": {
      "text/plain": [
       "1569"
      ]
     },
     "execution_count": 63,
     "metadata": {},
     "output_type": "execute_result"
    }
   ],
   "source": [
    "# Check for unique values\n",
    "client_denial_information['Trip Date'].nunique()"
   ]
  },
  {
   "cell_type": "code",
   "execution_count": 25,
   "metadata": {},
   "outputs": [],
   "source": [
    "#client_denial_information['Trip Date'].value_counts()"
   ]
  },
  {
   "cell_type": "markdown",
   "metadata": {},
   "source": [
    "#### Create Month and Year Column"
   ]
  },
  {
   "cell_type": "code",
   "execution_count": 64,
   "metadata": {},
   "outputs": [],
   "source": [
    "client_denial_information['month'] = client_denial_information['Trip Date'].dt.month\n",
    "client_denial_information['Year'] = client_denial_information['Trip Date'].dt.year"
   ]
  },
  {
   "cell_type": "code",
   "execution_count": 65,
   "metadata": {},
   "outputs": [
    {
     "data": {
      "text/plain": [
       "(456421, 22)"
      ]
     },
     "execution_count": 65,
     "metadata": {},
     "output_type": "execute_result"
    }
   ],
   "source": [
    "client_denial_information.shape"
   ]
  },
  {
   "cell_type": "code",
   "execution_count": 66,
   "metadata": {},
   "outputs": [
    {
     "data": {
      "text/plain": [
       "2020    153266\n",
       "2019    119881\n",
       "2018     89405\n",
       "2017     69555\n",
       "2021     24314\n",
       "Name: Year, dtype: int64"
      ]
     },
     "execution_count": 66,
     "metadata": {},
     "output_type": "execute_result"
    }
   ],
   "source": [
    "client_denial_information['Year'].value_counts()"
   ]
  },
  {
   "cell_type": "code",
   "execution_count": 67,
   "metadata": {},
   "outputs": [
    {
     "data": {
      "text/plain": [
       "1569"
      ]
     },
     "execution_count": 67,
     "metadata": {},
     "output_type": "execute_result"
    }
   ],
   "source": [
    "client_denial_information['Trip Date'].nunique()"
   ]
  },
  {
   "cell_type": "code",
   "execution_count": 30,
   "metadata": {},
   "outputs": [],
   "source": [
    "#client_denial_information.sample(10)"
   ]
  },
  {
   "cell_type": "code",
   "execution_count": 109,
   "metadata": {},
   "outputs": [],
   "source": [
    "client_denial_information_1 = client_denial_information['Year']== 2019\n",
    "df_client_denial_information = client_denial_information.loc[client_denial_information_1]\n",
    "#df_client_denial_information.sample(6)"
   ]
  },
  {
   "cell_type": "code",
   "execution_count": 110,
   "metadata": {},
   "outputs": [
    {
     "data": {
      "text/plain": [
       "(119881, 22)"
      ]
     },
     "execution_count": 110,
     "metadata": {},
     "output_type": "execute_result"
    }
   ],
   "source": [
    "df_client_denial_information.shape"
   ]
  },
  {
   "cell_type": "code",
   "execution_count": 70,
   "metadata": {},
   "outputs": [
    {
     "data": {
      "text/plain": [
       "Index(['Trip Date', 'Job Number', 'Database', 'Client Code', 'Client',\n",
       "       'Service Type: Name', 'Market Type', 'Payor Code', 'Payor',\n",
       "       'Trip Status', 'Call Type', 'Response Priority', 'Charge', 'Post Date',\n",
       "       'Check Date', 'Deposit Date', 'Batch Number', 'Denial Code',\n",
       "       'Denial Reason Code', 'Denial Reason Descr', 'month', 'Year'],\n",
       "      dtype='object')"
      ]
     },
     "execution_count": 70,
     "metadata": {},
     "output_type": "execute_result"
    }
   ],
   "source": [
    "df_client_denial_information.columns"
   ]
  },
  {
   "cell_type": "code",
   "execution_count": 111,
   "metadata": {},
   "outputs": [],
   "source": [
    "# Group dataframe using the month column\n",
    "grp_months = df_client_denial_information.groupby('month')['Charge'].sum()"
   ]
  },
  {
   "cell_type": "code",
   "execution_count": 35,
   "metadata": {},
   "outputs": [
    {
     "data": {
      "text/plain": [
       "pandas.core.series.Series"
      ]
     },
     "execution_count": 35,
     "metadata": {},
     "output_type": "execute_result"
    }
   ],
   "source": [
    "type(grp_months)"
   ]
  },
  {
   "cell_type": "code",
   "execution_count": 112,
   "metadata": {},
   "outputs": [],
   "source": [
    "# convert series into dataframe and reset index\n",
    "df_grp_months = grp_months.to_frame().reset_index()\n",
    "#df_grp_months = pd.DataFrame(grp_months)"
   ]
  },
  {
   "cell_type": "code",
   "execution_count": 113,
   "metadata": {},
   "outputs": [
    {
     "data": {
      "text/html": [
       "<style  type=\"text/css\" >\n",
       "</style><table id=\"T_c877c924_d918_11eb_a12b_38b1dbfa0b7c\" ><thead>    <tr>        <th class=\"blank level0\" ></th>        <th class=\"col_heading level0 col0\" >month</th>        <th class=\"col_heading level0 col1\" >Charge</th>    </tr></thead><tbody>\n",
       "                <tr>\n",
       "                        <th id=\"T_c877c924_d918_11eb_a12b_38b1dbfa0b7clevel0_row0\" class=\"row_heading level0 row0\" >count</th>\n",
       "                        <td id=\"T_c877c924_d918_11eb_a12b_38b1dbfa0b7crow0_col0\" class=\"data row0 col0\" >12.000</td>\n",
       "                        <td id=\"T_c877c924_d918_11eb_a12b_38b1dbfa0b7crow0_col1\" class=\"data row0 col1\" >12.000</td>\n",
       "            </tr>\n",
       "            <tr>\n",
       "                        <th id=\"T_c877c924_d918_11eb_a12b_38b1dbfa0b7clevel0_row1\" class=\"row_heading level0 row1\" >mean</th>\n",
       "                        <td id=\"T_c877c924_d918_11eb_a12b_38b1dbfa0b7crow1_col0\" class=\"data row1 col0\" >6.500</td>\n",
       "                        <td id=\"T_c877c924_d918_11eb_a12b_38b1dbfa0b7crow1_col1\" class=\"data row1 col1\" >3229355.167</td>\n",
       "            </tr>\n",
       "            <tr>\n",
       "                        <th id=\"T_c877c924_d918_11eb_a12b_38b1dbfa0b7clevel0_row2\" class=\"row_heading level0 row2\" >std</th>\n",
       "                        <td id=\"T_c877c924_d918_11eb_a12b_38b1dbfa0b7crow2_col0\" class=\"data row2 col0\" >3.606</td>\n",
       "                        <td id=\"T_c877c924_d918_11eb_a12b_38b1dbfa0b7crow2_col1\" class=\"data row2 col1\" >913425.248</td>\n",
       "            </tr>\n",
       "            <tr>\n",
       "                        <th id=\"T_c877c924_d918_11eb_a12b_38b1dbfa0b7clevel0_row3\" class=\"row_heading level0 row3\" >min</th>\n",
       "                        <td id=\"T_c877c924_d918_11eb_a12b_38b1dbfa0b7crow3_col0\" class=\"data row3 col0\" >1.000</td>\n",
       "                        <td id=\"T_c877c924_d918_11eb_a12b_38b1dbfa0b7crow3_col1\" class=\"data row3 col1\" >1970609.000</td>\n",
       "            </tr>\n",
       "            <tr>\n",
       "                        <th id=\"T_c877c924_d918_11eb_a12b_38b1dbfa0b7clevel0_row4\" class=\"row_heading level0 row4\" >25%</th>\n",
       "                        <td id=\"T_c877c924_d918_11eb_a12b_38b1dbfa0b7crow4_col0\" class=\"data row4 col0\" >3.750</td>\n",
       "                        <td id=\"T_c877c924_d918_11eb_a12b_38b1dbfa0b7crow4_col1\" class=\"data row4 col1\" >2563317.750</td>\n",
       "            </tr>\n",
       "            <tr>\n",
       "                        <th id=\"T_c877c924_d918_11eb_a12b_38b1dbfa0b7clevel0_row5\" class=\"row_heading level0 row5\" >50%</th>\n",
       "                        <td id=\"T_c877c924_d918_11eb_a12b_38b1dbfa0b7crow5_col0\" class=\"data row5 col0\" >6.500</td>\n",
       "                        <td id=\"T_c877c924_d918_11eb_a12b_38b1dbfa0b7crow5_col1\" class=\"data row5 col1\" >3129579.000</td>\n",
       "            </tr>\n",
       "            <tr>\n",
       "                        <th id=\"T_c877c924_d918_11eb_a12b_38b1dbfa0b7clevel0_row6\" class=\"row_heading level0 row6\" >75%</th>\n",
       "                        <td id=\"T_c877c924_d918_11eb_a12b_38b1dbfa0b7crow6_col0\" class=\"data row6 col0\" >9.250</td>\n",
       "                        <td id=\"T_c877c924_d918_11eb_a12b_38b1dbfa0b7crow6_col1\" class=\"data row6 col1\" >4099150.500</td>\n",
       "            </tr>\n",
       "            <tr>\n",
       "                        <th id=\"T_c877c924_d918_11eb_a12b_38b1dbfa0b7clevel0_row7\" class=\"row_heading level0 row7\" >max</th>\n",
       "                        <td id=\"T_c877c924_d918_11eb_a12b_38b1dbfa0b7crow7_col0\" class=\"data row7 col0\" >12.000</td>\n",
       "                        <td id=\"T_c877c924_d918_11eb_a12b_38b1dbfa0b7crow7_col1\" class=\"data row7 col1\" >4622536.000</td>\n",
       "            </tr>\n",
       "    </tbody></table>"
      ],
      "text/plain": [
       "<pandas.io.formats.style.Styler at 0xfdc3fb22e8>"
      ]
     },
     "execution_count": 113,
     "metadata": {},
     "output_type": "execute_result"
    }
   ],
   "source": [
    "df_grp_months.describe().style.format('{:.3f}')"
   ]
  },
  {
   "cell_type": "code",
   "execution_count": 114,
   "metadata": {},
   "outputs": [
    {
     "data": {
      "text/html": [
       "<div>\n",
       "<style scoped>\n",
       "    .dataframe tbody tr th:only-of-type {\n",
       "        vertical-align: middle;\n",
       "    }\n",
       "\n",
       "    .dataframe tbody tr th {\n",
       "        vertical-align: top;\n",
       "    }\n",
       "\n",
       "    .dataframe thead th {\n",
       "        text-align: right;\n",
       "    }\n",
       "</style>\n",
       "<table border=\"1\" class=\"dataframe\">\n",
       "  <thead>\n",
       "    <tr style=\"text-align: right;\">\n",
       "      <th></th>\n",
       "      <th>month</th>\n",
       "      <th>Charge</th>\n",
       "    </tr>\n",
       "  </thead>\n",
       "  <tbody>\n",
       "    <tr>\n",
       "      <th>0</th>\n",
       "      <td>1</td>\n",
       "      <td>2617045.0</td>\n",
       "    </tr>\n",
       "    <tr>\n",
       "      <th>1</th>\n",
       "      <td>2</td>\n",
       "      <td>1970609.0</td>\n",
       "    </tr>\n",
       "    <tr>\n",
       "      <th>2</th>\n",
       "      <td>3</td>\n",
       "      <td>2003470.0</td>\n",
       "    </tr>\n",
       "    <tr>\n",
       "      <th>3</th>\n",
       "      <td>4</td>\n",
       "      <td>2402136.0</td>\n",
       "    </tr>\n",
       "    <tr>\n",
       "      <th>4</th>\n",
       "      <td>5</td>\n",
       "      <td>2808195.0</td>\n",
       "    </tr>\n",
       "  </tbody>\n",
       "</table>\n",
       "</div>"
      ],
      "text/plain": [
       "   month     Charge\n",
       "0      1  2617045.0\n",
       "1      2  1970609.0\n",
       "2      3  2003470.0\n",
       "3      4  2402136.0\n",
       "4      5  2808195.0"
      ]
     },
     "execution_count": 114,
     "metadata": {},
     "output_type": "execute_result"
    }
   ],
   "source": [
    "df_grp_months.head()"
   ]
  },
  {
   "cell_type": "markdown",
   "metadata": {},
   "source": [
    "### Denial By Month in 2019"
   ]
  },
  {
   "cell_type": "code",
   "execution_count": 88,
   "metadata": {},
   "outputs": [
    {
     "data": {
      "text/plain": [
       "Index(['month', 'Charge'], dtype='object')"
      ]
     },
     "execution_count": 88,
     "metadata": {},
     "output_type": "execute_result"
    }
   ],
   "source": [
    "# merge df_grp_months and df_charge_grp_month\n",
    "df_grp_months.columns"
   ]
  },
  {
   "cell_type": "code",
   "execution_count": 89,
   "metadata": {},
   "outputs": [
    {
     "data": {
      "text/plain": [
       "Index(['month', 'Charges'], dtype='object')"
      ]
     },
     "execution_count": 89,
     "metadata": {},
     "output_type": "execute_result"
    }
   ],
   "source": [
    "df_charge_grp_month.columns"
   ]
  },
  {
   "cell_type": "code",
   "execution_count": 115,
   "metadata": {},
   "outputs": [],
   "source": [
    "denial_month_2019 = pd.merge(df_charge_grp_month, df_grp_months)\n",
    "denial_charge = denial_month_2019.rename(columns={'Charges':'Total Charge 2019', 'Charge':'Denial Charge 2019'})"
   ]
  },
  {
   "cell_type": "code",
   "execution_count": 116,
   "metadata": {},
   "outputs": [],
   "source": [
    "denial_charge['% per month'] = denial_charge['Denial Charge 2019']/denial_charge['Total Charge 2019']*100"
   ]
  },
  {
   "cell_type": "code",
   "execution_count": 117,
   "metadata": {},
   "outputs": [
    {
     "data": {
      "text/html": [
       "<div>\n",
       "<style scoped>\n",
       "    .dataframe tbody tr th:only-of-type {\n",
       "        vertical-align: middle;\n",
       "    }\n",
       "\n",
       "    .dataframe tbody tr th {\n",
       "        vertical-align: top;\n",
       "    }\n",
       "\n",
       "    .dataframe thead th {\n",
       "        text-align: right;\n",
       "    }\n",
       "</style>\n",
       "<table border=\"1\" class=\"dataframe\">\n",
       "  <thead>\n",
       "    <tr style=\"text-align: right;\">\n",
       "      <th></th>\n",
       "      <th>month</th>\n",
       "      <th>Total Charge 2019</th>\n",
       "      <th>Denial Charge 2019</th>\n",
       "      <th>% per month</th>\n",
       "    </tr>\n",
       "  </thead>\n",
       "  <tbody>\n",
       "    <tr>\n",
       "      <th>0</th>\n",
       "      <td>1</td>\n",
       "      <td>49623976.8</td>\n",
       "      <td>2617045.0</td>\n",
       "      <td>5.273751</td>\n",
       "    </tr>\n",
       "    <tr>\n",
       "      <th>1</th>\n",
       "      <td>2</td>\n",
       "      <td>52746130.0</td>\n",
       "      <td>1970609.0</td>\n",
       "      <td>3.736026</td>\n",
       "    </tr>\n",
       "    <tr>\n",
       "      <th>2</th>\n",
       "      <td>3</td>\n",
       "      <td>58522775.6</td>\n",
       "      <td>2003470.0</td>\n",
       "      <td>3.423402</td>\n",
       "    </tr>\n",
       "    <tr>\n",
       "      <th>3</th>\n",
       "      <td>4</td>\n",
       "      <td>60841678.0</td>\n",
       "      <td>2402136.0</td>\n",
       "      <td>3.948175</td>\n",
       "    </tr>\n",
       "    <tr>\n",
       "      <th>4</th>\n",
       "      <td>5</td>\n",
       "      <td>64696990.0</td>\n",
       "      <td>2808195.0</td>\n",
       "      <td>4.340534</td>\n",
       "    </tr>\n",
       "    <tr>\n",
       "      <th>5</th>\n",
       "      <td>6</td>\n",
       "      <td>65970967.3</td>\n",
       "      <td>2941280.0</td>\n",
       "      <td>4.458446</td>\n",
       "    </tr>\n",
       "    <tr>\n",
       "      <th>6</th>\n",
       "      <td>7</td>\n",
       "      <td>66099361.5</td>\n",
       "      <td>3530307.0</td>\n",
       "      <td>5.340909</td>\n",
       "    </tr>\n",
       "    <tr>\n",
       "      <th>7</th>\n",
       "      <td>8</td>\n",
       "      <td>75104103.9</td>\n",
       "      <td>4259262.0</td>\n",
       "      <td>5.671144</td>\n",
       "    </tr>\n",
       "    <tr>\n",
       "      <th>8</th>\n",
       "      <td>9</td>\n",
       "      <td>68170684.1</td>\n",
       "      <td>4221015.0</td>\n",
       "      <td>6.191833</td>\n",
       "    </tr>\n",
       "    <tr>\n",
       "      <th>9</th>\n",
       "      <td>10</td>\n",
       "      <td>69325958.3</td>\n",
       "      <td>4058529.0</td>\n",
       "      <td>5.854270</td>\n",
       "    </tr>\n",
       "    <tr>\n",
       "      <th>10</th>\n",
       "      <td>11</td>\n",
       "      <td>68617524.1</td>\n",
       "      <td>4622536.0</td>\n",
       "      <td>6.736670</td>\n",
       "    </tr>\n",
       "    <tr>\n",
       "      <th>11</th>\n",
       "      <td>12</td>\n",
       "      <td>73974741.5</td>\n",
       "      <td>3317878.0</td>\n",
       "      <td>4.485150</td>\n",
       "    </tr>\n",
       "  </tbody>\n",
       "</table>\n",
       "</div>"
      ],
      "text/plain": [
       "    month  Total Charge 2019  Denial Charge 2019  % per month\n",
       "0       1         49623976.8           2617045.0     5.273751\n",
       "1       2         52746130.0           1970609.0     3.736026\n",
       "2       3         58522775.6           2003470.0     3.423402\n",
       "3       4         60841678.0           2402136.0     3.948175\n",
       "4       5         64696990.0           2808195.0     4.340534\n",
       "5       6         65970967.3           2941280.0     4.458446\n",
       "6       7         66099361.5           3530307.0     5.340909\n",
       "7       8         75104103.9           4259262.0     5.671144\n",
       "8       9         68170684.1           4221015.0     6.191833\n",
       "9      10         69325958.3           4058529.0     5.854270\n",
       "10     11         68617524.1           4622536.0     6.736670\n",
       "11     12         73974741.5           3317878.0     4.485150"
      ]
     },
     "execution_count": 117,
     "metadata": {},
     "output_type": "execute_result"
    }
   ],
   "source": [
    "denial_charge"
   ]
  },
  {
   "cell_type": "code",
   "execution_count": 118,
   "metadata": {},
   "outputs": [
    {
     "data": {
      "image/png": "[encoded data removed]",
      "text/plain": [
       "<Figure size 1080x576 with 1 Axes>"
      ]
     },
     "metadata": {},
     "output_type": "display_data"
    }
   ],
   "source": [
    "# Plot the yearly data point to ascertain the Monthly trend\n",
    "plt.figure(figsize=(15,8))\n",
    "plt.plot(denial_charge['month'], denial_charge['% per month'], marker='o')\n",
    "plt.xlabel('Month', size=20)\n",
    "plt.ylabel('Percentage Denial', size=20)\n",
    "plt.title('Percentage Denial By Month 2019', size=20)\n",
    "plt.savefig('Percentage Denial By Month 2019.png', dpi=300, bbox_inches='tight')\n",
    "plt.grid(True)\n",
    "plt.gcf().autofmt_xdate()\n",
    "date_format = mpl_dates.DateFormatter('%b %Y')\n",
    "#plt.gca().xaxis.set_major_formatter(date_format)"
   ]
  },
  {
   "cell_type": "markdown",
   "metadata": {},
   "source": [
    "### Reason For High Denial in January 2020"
   ]
  },
  {
   "cell_type": "code",
   "execution_count": 119,
   "metadata": {},
   "outputs": [
    {
     "data": {
      "text/html": [
       "<div>\n",
       "<style scoped>\n",
       "    .dataframe tbody tr th:only-of-type {\n",
       "        vertical-align: middle;\n",
       "    }\n",
       "\n",
       "    .dataframe tbody tr th {\n",
       "        vertical-align: top;\n",
       "    }\n",
       "\n",
       "    .dataframe thead th {\n",
       "        text-align: right;\n",
       "    }\n",
       "</style>\n",
       "<table border=\"1\" class=\"dataframe\">\n",
       "  <thead>\n",
       "    <tr style=\"text-align: right;\">\n",
       "      <th></th>\n",
       "      <th>Trip Date</th>\n",
       "      <th>Job Number</th>\n",
       "      <th>Database</th>\n",
       "      <th>Client Code</th>\n",
       "      <th>Client</th>\n",
       "      <th>Service Type: Name</th>\n",
       "      <th>Market Type</th>\n",
       "      <th>Payor Code</th>\n",
       "      <th>Payor</th>\n",
       "      <th>Trip Status</th>\n",
       "      <th>...</th>\n",
       "      <th>Charge</th>\n",
       "      <th>Post Date</th>\n",
       "      <th>Check Date</th>\n",
       "      <th>Deposit Date</th>\n",
       "      <th>Batch Number</th>\n",
       "      <th>Denial Code</th>\n",
       "      <th>Denial Reason Code</th>\n",
       "      <th>Denial Reason Descr</th>\n",
       "      <th>month</th>\n",
       "      <th>Year</th>\n",
       "    </tr>\n",
       "  </thead>\n",
       "  <tbody>\n",
       "    <tr>\n",
       "      <th>89703</th>\n",
       "      <td>2019-01-01</td>\n",
       "      <td>0543-A</td>\n",
       "      <td>PIT</td>\n",
       "      <td>46</td>\n",
       "      <td>LifeMed Alaska</td>\n",
       "      <td>Air Transport</td>\n",
       "      <td>Private : For- Profit</td>\n",
       "      <td>8915</td>\n",
       "      <td>Tanana Chiefs Conference</td>\n",
       "      <td>Closed</td>\n",
       "      <td>...</td>\n",
       "      <td>0.0</td>\n",
       "      <td>3/19/2019</td>\n",
       "      <td>NaN</td>\n",
       "      <td>3/15/2019</td>\n",
       "      <td>0</td>\n",
       "      <td>1195</td>\n",
       "      <td>denied</td>\n",
       "      <td>Insurance denied</td>\n",
       "      <td>1</td>\n",
       "      <td>2019</td>\n",
       "    </tr>\n",
       "    <tr>\n",
       "      <th>89704</th>\n",
       "      <td>2019-01-01</td>\n",
       "      <td>0603-A</td>\n",
       "      <td>PIT</td>\n",
       "      <td>114</td>\n",
       "      <td>Orion Ambulance Service LLC</td>\n",
       "      <td>Ground Transport</td>\n",
       "      <td>Private : For- Profit</td>\n",
       "      <td>9599</td>\n",
       "      <td>United Healthcare Medicaid (31362 )</td>\n",
       "      <td>Closed</td>\n",
       "      <td>...</td>\n",
       "      <td>0.0</td>\n",
       "      <td>4/8/2019</td>\n",
       "      <td>NaN</td>\n",
       "      <td>3/31/2019</td>\n",
       "      <td>0</td>\n",
       "      <td>1246</td>\n",
       "      <td>auth</td>\n",
       "      <td>Benefit requires prior authorization</td>\n",
       "      <td>1</td>\n",
       "      <td>2019</td>\n",
       "    </tr>\n",
       "    <tr>\n",
       "      <th>89705</th>\n",
       "      <td>2019-01-01</td>\n",
       "      <td>0354-A</td>\n",
       "      <td>PIT</td>\n",
       "      <td>3</td>\n",
       "      <td>Guardian Medical Transport</td>\n",
       "      <td>Air and Ground Transport</td>\n",
       "      <td>Hospital-based</td>\n",
       "      <td>8413</td>\n",
       "      <td>AHCCCS UHC COMMUNITY PLAN (5290)</td>\n",
       "      <td>Billed</td>\n",
       "      <td>...</td>\n",
       "      <td>0.0</td>\n",
       "      <td>9/5/2019</td>\n",
       "      <td>NaN</td>\n",
       "      <td>8/19/2019</td>\n",
       "      <td>0</td>\n",
       "      <td>144</td>\n",
       "      <td>PI29</td>\n",
       "      <td>The time limit for filing has expired.</td>\n",
       "      <td>1</td>\n",
       "      <td>2019</td>\n",
       "    </tr>\n",
       "    <tr>\n",
       "      <th>89706</th>\n",
       "      <td>2019-01-01</td>\n",
       "      <td>0407-A</td>\n",
       "      <td>PIT</td>\n",
       "      <td>111</td>\n",
       "      <td>Health Team Critical Care Transport</td>\n",
       "      <td>Ground Transport</td>\n",
       "      <td>Municipal: Third Service (EMS)</td>\n",
       "      <td>8230</td>\n",
       "      <td>Medicare WV Urban</td>\n",
       "      <td>Closed</td>\n",
       "      <td>...</td>\n",
       "      <td>NaN</td>\n",
       "      <td>2/28/2019</td>\n",
       "      <td>2/21/2019</td>\n",
       "      <td>2/21/2019</td>\n",
       "      <td>235864</td>\n",
       "      <td>76</td>\n",
       "      <td>CO16</td>\n",
       "      <td>Claim/service lacks information which is neede...</td>\n",
       "      <td>1</td>\n",
       "      <td>2019</td>\n",
       "    </tr>\n",
       "    <tr>\n",
       "      <th>89707</th>\n",
       "      <td>2019-01-01</td>\n",
       "      <td>0586-A</td>\n",
       "      <td>PIT</td>\n",
       "      <td>37</td>\n",
       "      <td>Allegheny General Hospital</td>\n",
       "      <td>NaN</td>\n",
       "      <td>NaN</td>\n",
       "      <td>9935</td>\n",
       "      <td>Highmark BC/BS (Inst)</td>\n",
       "      <td>Closed</td>\n",
       "      <td>...</td>\n",
       "      <td>0.0</td>\n",
       "      <td>4/26/2019</td>\n",
       "      <td>NaN</td>\n",
       "      <td>4/25/2019</td>\n",
       "      <td>0</td>\n",
       "      <td>76</td>\n",
       "      <td>CO16</td>\n",
       "      <td>Claim/service lacks information which is neede...</td>\n",
       "      <td>1</td>\n",
       "      <td>2019</td>\n",
       "    </tr>\n",
       "  </tbody>\n",
       "</table>\n",
       "<p>5 rows × 22 columns</p>\n",
       "</div>"
      ],
      "text/plain": [
       "       Trip Date Job Number Database  Client Code  \\\n",
       "89703 2019-01-01     0543-A      PIT           46   \n",
       "89704 2019-01-01     0603-A      PIT          114   \n",
       "89705 2019-01-01     0354-A      PIT            3   \n",
       "89706 2019-01-01     0407-A      PIT          111   \n",
       "89707 2019-01-01     0586-A      PIT           37   \n",
       "\n",
       "                                    Client        Service Type: Name  \\\n",
       "89703                       LifeMed Alaska             Air Transport   \n",
       "89704          Orion Ambulance Service LLC          Ground Transport   \n",
       "89705           Guardian Medical Transport  Air and Ground Transport   \n",
       "89706  Health Team Critical Care Transport          Ground Transport   \n",
       "89707           Allegheny General Hospital                       NaN   \n",
       "\n",
       "                          Market Type  Payor Code  \\\n",
       "89703           Private : For- Profit        8915   \n",
       "89704           Private : For- Profit        9599   \n",
       "89705                  Hospital-based        8413   \n",
       "89706  Municipal: Third Service (EMS)        8230   \n",
       "89707                             NaN        9935   \n",
       "\n",
       "                                     Payor Trip Status  ... Charge  Post Date  \\\n",
       "89703             Tanana Chiefs Conference      Closed  ...    0.0  3/19/2019   \n",
       "89704  United Healthcare Medicaid (31362 )      Closed  ...    0.0   4/8/2019   \n",
       "89705     AHCCCS UHC COMMUNITY PLAN (5290)      Billed  ...    0.0   9/5/2019   \n",
       "89706                    Medicare WV Urban      Closed  ...    NaN  2/28/2019   \n",
       "89707                Highmark BC/BS (Inst)      Closed  ...    0.0  4/26/2019   \n",
       "\n",
       "       Check Date Deposit Date Batch Number Denial Code  Denial Reason Code  \\\n",
       "89703         NaN    3/15/2019            0        1195              denied   \n",
       "89704         NaN    3/31/2019            0        1246                auth   \n",
       "89705         NaN    8/19/2019            0         144                PI29   \n",
       "89706   2/21/2019    2/21/2019       235864          76                CO16   \n",
       "89707         NaN    4/25/2019            0          76                CO16   \n",
       "\n",
       "                                     Denial Reason Descr month  Year  \n",
       "89703                                   Insurance denied     1  2019  \n",
       "89704               Benefit requires prior authorization     1  2019  \n",
       "89705             The time limit for filing has expired.     1  2019  \n",
       "89706  Claim/service lacks information which is neede...     1  2019  \n",
       "89707  Claim/service lacks information which is neede...     1  2019  \n",
       "\n",
       "[5 rows x 22 columns]"
      ]
     },
     "execution_count": 119,
     "metadata": {},
     "output_type": "execute_result"
    }
   ],
   "source": [
    "df_client_denial_information.head()"
   ]
  },
  {
   "cell_type": "code",
   "execution_count": 121,
   "metadata": {},
   "outputs": [
    {
     "data": {
      "text/html": [
       "<div>\n",
       "<style scoped>\n",
       "    .dataframe tbody tr th:only-of-type {\n",
       "        vertical-align: middle;\n",
       "    }\n",
       "\n",
       "    .dataframe tbody tr th {\n",
       "        vertical-align: top;\n",
       "    }\n",
       "\n",
       "    .dataframe thead th {\n",
       "        text-align: right;\n",
       "    }\n",
       "</style>\n",
       "<table border=\"1\" class=\"dataframe\">\n",
       "  <thead>\n",
       "    <tr style=\"text-align: right;\">\n",
       "      <th></th>\n",
       "      <th>Trip Date</th>\n",
       "      <th>Job Number</th>\n",
       "      <th>Database</th>\n",
       "      <th>Client Code</th>\n",
       "      <th>Client</th>\n",
       "      <th>Service Type: Name</th>\n",
       "      <th>Market Type</th>\n",
       "      <th>Payor Code</th>\n",
       "      <th>Payor</th>\n",
       "      <th>Trip Status</th>\n",
       "      <th>...</th>\n",
       "      <th>Charge</th>\n",
       "      <th>Post Date</th>\n",
       "      <th>Check Date</th>\n",
       "      <th>Deposit Date</th>\n",
       "      <th>Batch Number</th>\n",
       "      <th>Denial Code</th>\n",
       "      <th>Denial Reason Code</th>\n",
       "      <th>Denial Reason Descr</th>\n",
       "      <th>month</th>\n",
       "      <th>Year</th>\n",
       "    </tr>\n",
       "  </thead>\n",
       "  <tbody>\n",
       "    <tr>\n",
       "      <th>419692</th>\n",
       "      <td>2019-11-23</td>\n",
       "      <td>0041-A</td>\n",
       "      <td>MW</td>\n",
       "      <td>20</td>\n",
       "      <td>Champion EMS</td>\n",
       "      <td>Ground Transport</td>\n",
       "      <td>Municipal: Third Service (EMS)</td>\n",
       "      <td>5022</td>\n",
       "      <td>zzSedgwick (14498)</td>\n",
       "      <td>Billed</td>\n",
       "      <td>...</td>\n",
       "      <td>0.0</td>\n",
       "      <td>2/10/2020</td>\n",
       "      <td>NaN</td>\n",
       "      <td>1/30/2020</td>\n",
       "      <td>0</td>\n",
       "      <td>480</td>\n",
       "      <td>PR96</td>\n",
       "      <td>Non-covered charge(s). This change to be effec...</td>\n",
       "      <td>11</td>\n",
       "      <td>2019</td>\n",
       "    </tr>\n",
       "    <tr>\n",
       "      <th>342280</th>\n",
       "      <td>2019-11-08</td>\n",
       "      <td>0032-A</td>\n",
       "      <td>CTA</td>\n",
       "      <td>1</td>\n",
       "      <td>BRISTOL HOSPITAL EMS LLC</td>\n",
       "      <td>NaN</td>\n",
       "      <td>NaN</td>\n",
       "      <td>243</td>\n",
       "      <td>Medicare CT</td>\n",
       "      <td>Closed</td>\n",
       "      <td>...</td>\n",
       "      <td>29.0</td>\n",
       "      <td>11/25/2019</td>\n",
       "      <td>11/22/2019</td>\n",
       "      <td>11/22/2019</td>\n",
       "      <td>73031</td>\n",
       "      <td>250</td>\n",
       "      <td>PR50</td>\n",
       "      <td>These are non-covered services because this is...</td>\n",
       "      <td>11</td>\n",
       "      <td>2019</td>\n",
       "    </tr>\n",
       "    <tr>\n",
       "      <th>342584</th>\n",
       "      <td>2019-11-13</td>\n",
       "      <td>0082-A</td>\n",
       "      <td>CTA</td>\n",
       "      <td>1</td>\n",
       "      <td>BRISTOL HOSPITAL EMS LLC</td>\n",
       "      <td>NaN</td>\n",
       "      <td>NaN</td>\n",
       "      <td>121</td>\n",
       "      <td>Connecticut State Welfare</td>\n",
       "      <td>Closed</td>\n",
       "      <td>...</td>\n",
       "      <td>91.0</td>\n",
       "      <td>1/29/2020</td>\n",
       "      <td>1/14/2020</td>\n",
       "      <td>1/14/2020</td>\n",
       "      <td>75527</td>\n",
       "      <td>76</td>\n",
       "      <td>CO16</td>\n",
       "      <td>Claim/service lacks information which is neede...</td>\n",
       "      <td>11</td>\n",
       "      <td>2019</td>\n",
       "    </tr>\n",
       "    <tr>\n",
       "      <th>168426</th>\n",
       "      <td>2019-11-27</td>\n",
       "      <td>0185-A</td>\n",
       "      <td>PIT</td>\n",
       "      <td>120</td>\n",
       "      <td>Monongalia Emergency Medical Services Inc.</td>\n",
       "      <td>Ground Transport</td>\n",
       "      <td>Municipal: Third Service (EMS)</td>\n",
       "      <td>8262</td>\n",
       "      <td>Blue Cross and Blue Shield of West Virginia</td>\n",
       "      <td>Closed</td>\n",
       "      <td>...</td>\n",
       "      <td>2086.0</td>\n",
       "      <td>1/10/2020</td>\n",
       "      <td>1/2/2020</td>\n",
       "      <td>1/2/2020</td>\n",
       "      <td>302239</td>\n",
       "      <td>110</td>\n",
       "      <td>PR22</td>\n",
       "      <td>Payment adjusted because this care may be cove...</td>\n",
       "      <td>11</td>\n",
       "      <td>2019</td>\n",
       "    </tr>\n",
       "    <tr>\n",
       "      <th>163635</th>\n",
       "      <td>2019-11-09</td>\n",
       "      <td>0435-A</td>\n",
       "      <td>PIT</td>\n",
       "      <td>18</td>\n",
       "      <td>Medical Rescue Team South Authority</td>\n",
       "      <td>NaN</td>\n",
       "      <td>NaN</td>\n",
       "      <td>2</td>\n",
       "      <td>Medicare PA</td>\n",
       "      <td>Closed</td>\n",
       "      <td>...</td>\n",
       "      <td>580.0</td>\n",
       "      <td>11/21/2019</td>\n",
       "      <td>11/19/2019</td>\n",
       "      <td>11/19/2019</td>\n",
       "      <td>290728</td>\n",
       "      <td>130</td>\n",
       "      <td>PR26</td>\n",
       "      <td>Expenses incurred prior to coverage.</td>\n",
       "      <td>11</td>\n",
       "      <td>2019</td>\n",
       "    </tr>\n",
       "    <tr>\n",
       "      <th>167732</th>\n",
       "      <td>2019-11-24</td>\n",
       "      <td>0342-A</td>\n",
       "      <td>PIT</td>\n",
       "      <td>111</td>\n",
       "      <td>Health Team Critical Care Transport</td>\n",
       "      <td>Ground Transport</td>\n",
       "      <td>Municipal: Third Service (EMS)</td>\n",
       "      <td>7319</td>\n",
       "      <td>The Health Plan of Upper Ohio Valley</td>\n",
       "      <td>Closed</td>\n",
       "      <td>...</td>\n",
       "      <td>0.0</td>\n",
       "      <td>1/2/2020</td>\n",
       "      <td>NaN</td>\n",
       "      <td>12/24/2020</td>\n",
       "      <td>0</td>\n",
       "      <td>3187</td>\n",
       "      <td>DOB</td>\n",
       "      <td>Member's DOB is missing or invalid</td>\n",
       "      <td>11</td>\n",
       "      <td>2019</td>\n",
       "    </tr>\n",
       "  </tbody>\n",
       "</table>\n",
       "<p>6 rows × 22 columns</p>\n",
       "</div>"
      ],
      "text/plain": [
       "        Trip Date Job Number Database  Client Code  \\\n",
       "419692 2019-11-23     0041-A       MW           20   \n",
       "342280 2019-11-08     0032-A      CTA            1   \n",
       "342584 2019-11-13     0082-A      CTA            1   \n",
       "168426 2019-11-27     0185-A      PIT          120   \n",
       "163635 2019-11-09     0435-A      PIT           18   \n",
       "167732 2019-11-24     0342-A      PIT          111   \n",
       "\n",
       "                                            Client Service Type: Name  \\\n",
       "419692                                Champion EMS   Ground Transport   \n",
       "342280                    BRISTOL HOSPITAL EMS LLC                NaN   \n",
       "342584                    BRISTOL HOSPITAL EMS LLC                NaN   \n",
       "168426  Monongalia Emergency Medical Services Inc.   Ground Transport   \n",
       "163635         Medical Rescue Team South Authority                NaN   \n",
       "167732         Health Team Critical Care Transport   Ground Transport   \n",
       "\n",
       "                           Market Type  Payor Code  \\\n",
       "419692  Municipal: Third Service (EMS)        5022   \n",
       "342280                             NaN         243   \n",
       "342584                             NaN         121   \n",
       "168426  Municipal: Third Service (EMS)        8262   \n",
       "163635                             NaN           2   \n",
       "167732  Municipal: Third Service (EMS)        7319   \n",
       "\n",
       "                                              Payor Trip Status  ...  Charge  \\\n",
       "419692                           zzSedgwick (14498)      Billed  ...     0.0   \n",
       "342280                                  Medicare CT      Closed  ...    29.0   \n",
       "342584                    Connecticut State Welfare      Closed  ...    91.0   \n",
       "168426  Blue Cross and Blue Shield of West Virginia      Closed  ...  2086.0   \n",
       "163635                                  Medicare PA      Closed  ...   580.0   \n",
       "167732         The Health Plan of Upper Ohio Valley      Closed  ...     0.0   \n",
       "\n",
       "         Post Date  Check Date Deposit Date Batch Number Denial Code  \\\n",
       "419692   2/10/2020         NaN    1/30/2020            0         480   \n",
       "342280  11/25/2019  11/22/2019   11/22/2019        73031         250   \n",
       "342584   1/29/2020   1/14/2020    1/14/2020        75527          76   \n",
       "168426   1/10/2020    1/2/2020     1/2/2020       302239         110   \n",
       "163635  11/21/2019  11/19/2019   11/19/2019       290728         130   \n",
       "167732    1/2/2020         NaN   12/24/2020            0        3187   \n",
       "\n",
       "        Denial Reason Code                                Denial Reason Descr  \\\n",
       "419692                PR96  Non-covered charge(s). This change to be effec...   \n",
       "342280                PR50  These are non-covered services because this is...   \n",
       "342584                CO16  Claim/service lacks information which is neede...   \n",
       "168426                PR22  Payment adjusted because this care may be cove...   \n",
       "163635                PR26               Expenses incurred prior to coverage.   \n",
       "167732                 DOB                 Member's DOB is missing or invalid   \n",
       "\n",
       "       month  Year  \n",
       "419692    11  2019  \n",
       "342280    11  2019  \n",
       "342584    11  2019  \n",
       "168426    11  2019  \n",
       "163635    11  2019  \n",
       "167732    11  2019  \n",
       "\n",
       "[6 rows x 22 columns]"
      ]
     },
     "execution_count": 121,
     "metadata": {},
     "output_type": "execute_result"
    }
   ],
   "source": [
    "client_denial_reason = df_client_denial_information['month']== 11\n",
    "df_client_denial_reason = df_client_denial_information.loc[client_denial_reason]\n",
    "df_client_denial_reason.sample(6)"
   ]
  },
  {
   "cell_type": "code",
   "execution_count": 123,
   "metadata": {},
   "outputs": [],
   "source": [
    "#df_client_denial_reason['Denial Reason Code'] = pd.to_numeric(df_client_denial_reason['Denial Reason Code'])"
   ]
  },
  {
   "cell_type": "code",
   "execution_count": null,
   "metadata": {},
   "outputs": [],
   "source": [
    "#df_client_denial_reason.nlargest(5, ['Denial Reason Code'])"
   ]
  },
  {
   "cell_type": "code",
   "execution_count": null,
   "metadata": {},
   "outputs": [],
   "source": [
    "#df_client_denial_reason['Denial Reason Code'].value_counts().sort_values"
   ]
  },
  {
   "cell_type": "code",
   "execution_count": 130,
   "metadata": {},
   "outputs": [
    {
     "data": {
      "text/plain": [
       "11510"
      ]
     },
     "execution_count": 130,
     "metadata": {},
     "output_type": "execute_result"
    }
   ],
   "source": [
    "# Number of trips performed in November\n",
    "len(df_client_denial_reason['Trip Date'])"
   ]
  },
  {
   "cell_type": "code",
   "execution_count": 124,
   "metadata": {},
   "outputs": [
    {
     "data": {
      "text/html": [
       "<div>\n",
       "<style scoped>\n",
       "    .dataframe tbody tr th:only-of-type {\n",
       "        vertical-align: middle;\n",
       "    }\n",
       "\n",
       "    .dataframe tbody tr th {\n",
       "        vertical-align: top;\n",
       "    }\n",
       "\n",
       "    .dataframe thead th {\n",
       "        text-align: right;\n",
       "    }\n",
       "</style>\n",
       "<table border=\"1\" class=\"dataframe\">\n",
       "  <thead>\n",
       "    <tr style=\"text-align: right;\">\n",
       "      <th></th>\n",
       "      <th>Denial Reason Code</th>\n",
       "      <th>Denial Reason Descr</th>\n",
       "    </tr>\n",
       "  </thead>\n",
       "  <tbody>\n",
       "    <tr>\n",
       "      <th>161074</th>\n",
       "      <td>CO16</td>\n",
       "      <td>Claim lacks information needed for adjudication</td>\n",
       "    </tr>\n",
       "    <tr>\n",
       "      <th>161077</th>\n",
       "      <td>PR96</td>\n",
       "      <td>Non-covered charge(s). This change to be effec...</td>\n",
       "    </tr>\n",
       "    <tr>\n",
       "      <th>161078</th>\n",
       "      <td>CO16</td>\n",
       "      <td>Claim/service lacks information which is neede...</td>\n",
       "    </tr>\n",
       "    <tr>\n",
       "      <th>161079</th>\n",
       "      <td>CO16</td>\n",
       "      <td>Claim/service lacks information which is neede...</td>\n",
       "    </tr>\n",
       "    <tr>\n",
       "      <th>161084</th>\n",
       "      <td>CO16</td>\n",
       "      <td>Claim/service lacks information which is neede...</td>\n",
       "    </tr>\n",
       "    <tr>\n",
       "      <th>161089</th>\n",
       "      <td>CO16</td>\n",
       "      <td>Claim lacks information needed for adjudication</td>\n",
       "    </tr>\n",
       "    <tr>\n",
       "      <th>161090</th>\n",
       "      <td>CO16</td>\n",
       "      <td>Claim lacks information needed for adjudication</td>\n",
       "    </tr>\n",
       "    <tr>\n",
       "      <th>161094</th>\n",
       "      <td>CO16</td>\n",
       "      <td>Claim/service lacks information which is neede...</td>\n",
       "    </tr>\n",
       "    <tr>\n",
       "      <th>161096</th>\n",
       "      <td>CO16</td>\n",
       "      <td>Claim lacks information needed for adjudication</td>\n",
       "    </tr>\n",
       "    <tr>\n",
       "      <th>161107</th>\n",
       "      <td>PR96</td>\n",
       "      <td>Non-covered charge(s). This change to be effec...</td>\n",
       "    </tr>\n",
       "    <tr>\n",
       "      <th>161110</th>\n",
       "      <td>CO16</td>\n",
       "      <td>Claim/service lacks information which is neede...</td>\n",
       "    </tr>\n",
       "    <tr>\n",
       "      <th>161112</th>\n",
       "      <td>PR96</td>\n",
       "      <td>Non-covered charge(s). This change to be effec...</td>\n",
       "    </tr>\n",
       "    <tr>\n",
       "      <th>161113</th>\n",
       "      <td>PR96</td>\n",
       "      <td>Non-covered charge(s).</td>\n",
       "    </tr>\n",
       "    <tr>\n",
       "      <th>161116</th>\n",
       "      <td>CO16</td>\n",
       "      <td>Claim/service lacks information which is neede...</td>\n",
       "    </tr>\n",
       "    <tr>\n",
       "      <th>161120</th>\n",
       "      <td>CO16</td>\n",
       "      <td>Claim/service lacks information which is neede...</td>\n",
       "    </tr>\n",
       "    <tr>\n",
       "      <th>161123</th>\n",
       "      <td>CO16</td>\n",
       "      <td>Claim/service lacks information which is neede...</td>\n",
       "    </tr>\n",
       "    <tr>\n",
       "      <th>161126</th>\n",
       "      <td>PR96</td>\n",
       "      <td>Non-covered charge(s). This change to be effec...</td>\n",
       "    </tr>\n",
       "    <tr>\n",
       "      <th>161127</th>\n",
       "      <td>PR96</td>\n",
       "      <td>Non-covered charge(s). This change to be effec...</td>\n",
       "    </tr>\n",
       "    <tr>\n",
       "      <th>161130</th>\n",
       "      <td>CO16</td>\n",
       "      <td>Claim/service lacks information which is neede...</td>\n",
       "    </tr>\n",
       "    <tr>\n",
       "      <th>161131</th>\n",
       "      <td>CO16</td>\n",
       "      <td>Claim lacks information needed for adjudication</td>\n",
       "    </tr>\n",
       "    <tr>\n",
       "      <th>161137</th>\n",
       "      <td>PR96</td>\n",
       "      <td>Non-covered charge(s).</td>\n",
       "    </tr>\n",
       "    <tr>\n",
       "      <th>161138</th>\n",
       "      <td>PR96</td>\n",
       "      <td>Non-covered charge(s).</td>\n",
       "    </tr>\n",
       "    <tr>\n",
       "      <th>161153</th>\n",
       "      <td>CO16</td>\n",
       "      <td>Claim lacks information needed for adjudication</td>\n",
       "    </tr>\n",
       "    <tr>\n",
       "      <th>161154</th>\n",
       "      <td>PR96</td>\n",
       "      <td>Non-covered charge(s).</td>\n",
       "    </tr>\n",
       "    <tr>\n",
       "      <th>161155</th>\n",
       "      <td>PR96</td>\n",
       "      <td>Non-covered charge(s).</td>\n",
       "    </tr>\n",
       "    <tr>\n",
       "      <th>161156</th>\n",
       "      <td>PR96</td>\n",
       "      <td>Non-covered charge(s).</td>\n",
       "    </tr>\n",
       "    <tr>\n",
       "      <th>161157</th>\n",
       "      <td>PR96</td>\n",
       "      <td>Non-covered charge(s).</td>\n",
       "    </tr>\n",
       "    <tr>\n",
       "      <th>161170</th>\n",
       "      <td>PR96</td>\n",
       "      <td>Non-covered charge(s). This change to be effec...</td>\n",
       "    </tr>\n",
       "    <tr>\n",
       "      <th>161171</th>\n",
       "      <td>PR96</td>\n",
       "      <td>Non-covered charge(s). This change to be effec...</td>\n",
       "    </tr>\n",
       "    <tr>\n",
       "      <th>161173</th>\n",
       "      <td>CO16</td>\n",
       "      <td>Claim/service lacks information which is neede...</td>\n",
       "    </tr>\n",
       "    <tr>\n",
       "      <th>...</th>\n",
       "      <td>...</td>\n",
       "      <td>...</td>\n",
       "    </tr>\n",
       "    <tr>\n",
       "      <th>419849</th>\n",
       "      <td>PR96</td>\n",
       "      <td>Non-covered charge(s). This change to be effec...</td>\n",
       "    </tr>\n",
       "    <tr>\n",
       "      <th>419852</th>\n",
       "      <td>OA18</td>\n",
       "      <td>Duplicate claim/service.</td>\n",
       "    </tr>\n",
       "    <tr>\n",
       "      <th>419853</th>\n",
       "      <td>OA18</td>\n",
       "      <td>Duplicate claim/service.</td>\n",
       "    </tr>\n",
       "    <tr>\n",
       "      <th>419854</th>\n",
       "      <td>OA18</td>\n",
       "      <td>Duplicate claim/service.</td>\n",
       "    </tr>\n",
       "    <tr>\n",
       "      <th>419857</th>\n",
       "      <td>PR96</td>\n",
       "      <td>Non-covered charge(s). This change to be effec...</td>\n",
       "    </tr>\n",
       "    <tr>\n",
       "      <th>419858</th>\n",
       "      <td>OA18</td>\n",
       "      <td>Duplicate claim/service.</td>\n",
       "    </tr>\n",
       "    <tr>\n",
       "      <th>419859</th>\n",
       "      <td>OA18</td>\n",
       "      <td>Duplicate claim/service.</td>\n",
       "    </tr>\n",
       "    <tr>\n",
       "      <th>419861</th>\n",
       "      <td>CO109</td>\n",
       "      <td>Claim not covered by this payer/contractor. Yo...</td>\n",
       "    </tr>\n",
       "    <tr>\n",
       "      <th>419862</th>\n",
       "      <td>CO109</td>\n",
       "      <td>Claim not covered by this payer/contractor. Yo...</td>\n",
       "    </tr>\n",
       "    <tr>\n",
       "      <th>419875</th>\n",
       "      <td>CO109</td>\n",
       "      <td>Claim not covered by this payer/contractor. Yo...</td>\n",
       "    </tr>\n",
       "    <tr>\n",
       "      <th>419880</th>\n",
       "      <td>CO109</td>\n",
       "      <td>Claim not covered by this payer/contractor. Yo...</td>\n",
       "    </tr>\n",
       "    <tr>\n",
       "      <th>419888</th>\n",
       "      <td>CO16</td>\n",
       "      <td>Claim/service lacks information which is neede...</td>\n",
       "    </tr>\n",
       "    <tr>\n",
       "      <th>419889</th>\n",
       "      <td>CO16</td>\n",
       "      <td>Claim/service lacks information which is neede...</td>\n",
       "    </tr>\n",
       "    <tr>\n",
       "      <th>419892</th>\n",
       "      <td>CO16</td>\n",
       "      <td>Claim/service lacks information which is neede...</td>\n",
       "    </tr>\n",
       "    <tr>\n",
       "      <th>419893</th>\n",
       "      <td>CO16</td>\n",
       "      <td>Claim/service lacks information which is neede...</td>\n",
       "    </tr>\n",
       "    <tr>\n",
       "      <th>419895</th>\n",
       "      <td>OA18</td>\n",
       "      <td>Duplicate claim/service.</td>\n",
       "    </tr>\n",
       "    <tr>\n",
       "      <th>419898</th>\n",
       "      <td>PR96</td>\n",
       "      <td>Non-covered charge(s). This change to be effec...</td>\n",
       "    </tr>\n",
       "    <tr>\n",
       "      <th>419900</th>\n",
       "      <td>PR96</td>\n",
       "      <td>Non-covered charge(s). This change to be effec...</td>\n",
       "    </tr>\n",
       "    <tr>\n",
       "      <th>419904</th>\n",
       "      <td>PR96</td>\n",
       "      <td>Non-covered charge(s). This change to be effec...</td>\n",
       "    </tr>\n",
       "    <tr>\n",
       "      <th>419906</th>\n",
       "      <td>CO109</td>\n",
       "      <td>Claim not covered by this payer/contractor. Yo...</td>\n",
       "    </tr>\n",
       "    <tr>\n",
       "      <th>419909</th>\n",
       "      <td>PR96</td>\n",
       "      <td>Non-covered charge(s). This change to be effec...</td>\n",
       "    </tr>\n",
       "    <tr>\n",
       "      <th>419910</th>\n",
       "      <td>PR96</td>\n",
       "      <td>Non-covered charge(s). This change to be effec...</td>\n",
       "    </tr>\n",
       "    <tr>\n",
       "      <th>419917</th>\n",
       "      <td>PR96</td>\n",
       "      <td>Non-covered charge(s). This change to be effec...</td>\n",
       "    </tr>\n",
       "    <tr>\n",
       "      <th>419921</th>\n",
       "      <td>CO109</td>\n",
       "      <td>Claim not covered by this payer/contractor. Yo...</td>\n",
       "    </tr>\n",
       "    <tr>\n",
       "      <th>419935</th>\n",
       "      <td>CO16</td>\n",
       "      <td>Claim/service lacks information which is neede...</td>\n",
       "    </tr>\n",
       "    <tr>\n",
       "      <th>419936</th>\n",
       "      <td>CO22</td>\n",
       "      <td>Payment adjusted because this care may be cove...</td>\n",
       "    </tr>\n",
       "    <tr>\n",
       "      <th>419937</th>\n",
       "      <td>OA18</td>\n",
       "      <td>Duplicate claim/service.</td>\n",
       "    </tr>\n",
       "    <tr>\n",
       "      <th>419940</th>\n",
       "      <td>CO16</td>\n",
       "      <td>Claim/service lacks information which is neede...</td>\n",
       "    </tr>\n",
       "    <tr>\n",
       "      <th>419941</th>\n",
       "      <td>OA18</td>\n",
       "      <td>Duplicate claim/service.</td>\n",
       "    </tr>\n",
       "    <tr>\n",
       "      <th>419942</th>\n",
       "      <td>CO109</td>\n",
       "      <td>Claim not covered by this payer/contractor. Yo...</td>\n",
       "    </tr>\n",
       "  </tbody>\n",
       "</table>\n",
       "<p>3983 rows × 2 columns</p>\n",
       "</div>"
      ],
      "text/plain": [
       "       Denial Reason Code                                Denial Reason Descr\n",
       "161074               CO16    Claim lacks information needed for adjudication\n",
       "161077               PR96  Non-covered charge(s). This change to be effec...\n",
       "161078               CO16  Claim/service lacks information which is neede...\n",
       "161079               CO16  Claim/service lacks information which is neede...\n",
       "161084               CO16  Claim/service lacks information which is neede...\n",
       "161089               CO16    Claim lacks information needed for adjudication\n",
       "161090               CO16    Claim lacks information needed for adjudication\n",
       "161094               CO16  Claim/service lacks information which is neede...\n",
       "161096               CO16    Claim lacks information needed for adjudication\n",
       "161107               PR96  Non-covered charge(s). This change to be effec...\n",
       "161110               CO16  Claim/service lacks information which is neede...\n",
       "161112               PR96  Non-covered charge(s). This change to be effec...\n",
       "161113               PR96                             Non-covered charge(s).\n",
       "161116               CO16  Claim/service lacks information which is neede...\n",
       "161120               CO16  Claim/service lacks information which is neede...\n",
       "161123               CO16  Claim/service lacks information which is neede...\n",
       "161126               PR96  Non-covered charge(s). This change to be effec...\n",
       "161127               PR96  Non-covered charge(s). This change to be effec...\n",
       "161130               CO16  Claim/service lacks information which is neede...\n",
       "161131               CO16    Claim lacks information needed for adjudication\n",
       "161137               PR96                             Non-covered charge(s).\n",
       "161138               PR96                             Non-covered charge(s).\n",
       "161153               CO16    Claim lacks information needed for adjudication\n",
       "161154               PR96                             Non-covered charge(s).\n",
       "161155               PR96                             Non-covered charge(s).\n",
       "161156               PR96                             Non-covered charge(s).\n",
       "161157               PR96                             Non-covered charge(s).\n",
       "161170               PR96  Non-covered charge(s). This change to be effec...\n",
       "161171               PR96  Non-covered charge(s). This change to be effec...\n",
       "161173               CO16  Claim/service lacks information which is neede...\n",
       "...                   ...                                                ...\n",
       "419849               PR96  Non-covered charge(s). This change to be effec...\n",
       "419852               OA18                           Duplicate claim/service.\n",
       "419853               OA18                           Duplicate claim/service.\n",
       "419854               OA18                           Duplicate claim/service.\n",
       "419857               PR96  Non-covered charge(s). This change to be effec...\n",
       "419858               OA18                           Duplicate claim/service.\n",
       "419859               OA18                           Duplicate claim/service.\n",
       "419861              CO109  Claim not covered by this payer/contractor. Yo...\n",
       "419862              CO109  Claim not covered by this payer/contractor. Yo...\n",
       "419875              CO109  Claim not covered by this payer/contractor. Yo...\n",
       "419880              CO109  Claim not covered by this payer/contractor. Yo...\n",
       "419888               CO16  Claim/service lacks information which is neede...\n",
       "419889               CO16  Claim/service lacks information which is neede...\n",
       "419892               CO16  Claim/service lacks information which is neede...\n",
       "419893               CO16  Claim/service lacks information which is neede...\n",
       "419895               OA18                           Duplicate claim/service.\n",
       "419898               PR96  Non-covered charge(s). This change to be effec...\n",
       "419900               PR96  Non-covered charge(s). This change to be effec...\n",
       "419904               PR96  Non-covered charge(s). This change to be effec...\n",
       "419906              CO109  Claim not covered by this payer/contractor. Yo...\n",
       "419909               PR96  Non-covered charge(s). This change to be effec...\n",
       "419910               PR96  Non-covered charge(s). This change to be effec...\n",
       "419917               PR96  Non-covered charge(s). This change to be effec...\n",
       "419921              CO109  Claim not covered by this payer/contractor. Yo...\n",
       "419935               CO16  Claim/service lacks information which is neede...\n",
       "419936               CO22  Payment adjusted because this care may be cove...\n",
       "419937               OA18                           Duplicate claim/service.\n",
       "419940               CO16  Claim/service lacks information which is neede...\n",
       "419941               OA18                           Duplicate claim/service.\n",
       "419942              CO109  Claim not covered by this payer/contractor. Yo...\n",
       "\n",
       "[3983 rows x 2 columns]"
      ]
     },
     "execution_count": 124,
     "metadata": {},
     "output_type": "execute_result"
    }
   ],
   "source": [
    "\n",
    "# Filter data between 2017 and 2021\n",
    "client_denial_reason_data = df_client_denial_reason['Denial Reason Code'].isin(['CO22', 'PR96', 'CO16', 'CO109', 'OA18'])\n",
    "df_client_denial_reason_data = df_client_denial_reason.loc[client_denial_reason_data]\n",
    "df_client_denial_reason_data[['Denial Reason Code', 'Denial Reason Descr']]"
   ]
  },
  {
   "cell_type": "markdown",
   "metadata": {},
   "source": [
    "### Denials Rate By Payors in January 2020"
   ]
  },
  {
   "cell_type": "code",
   "execution_count": null,
   "metadata": {},
   "outputs": [],
   "source": [
    "payor_denial_2020 = df_client_denial_information.copy()"
   ]
  },
  {
   "cell_type": "code",
   "execution_count": null,
   "metadata": {},
   "outputs": [],
   "source": [
    "payor_denial_2020.columns"
   ]
  },
  {
   "cell_type": "code",
   "execution_count": null,
   "metadata": {},
   "outputs": [],
   "source": [
    "#payor_denial_2020['Year'].value_counts()"
   ]
  },
  {
   "cell_type": "code",
   "execution_count": null,
   "metadata": {},
   "outputs": [],
   "source": [
    "payor_denial_2020.tail()"
   ]
  },
  {
   "cell_type": "code",
   "execution_count": null,
   "metadata": {},
   "outputs": [],
   "source": [
    "payor_denial_2020['Trip Status'].value_counts()"
   ]
  },
  {
   "cell_type": "code",
   "execution_count": null,
   "metadata": {},
   "outputs": [],
   "source": [
    "trip_status_payor_denial_2020 = payor_denial_2020['Trip Status']== 'Billed'\n",
    "df_trip_status_payor_denial_2020 = payor_denial_2020.loc[trip_status_payor_denial_2020]\n",
    "df_trip_status_payor_denial_2020.sample(6)"
   ]
  },
  {
   "cell_type": "code",
   "execution_count": null,
   "metadata": {},
   "outputs": [],
   "source": [
    "df_payor_denial_2020 = df_trip_status_payor_denial_2020[['Payor', 'Charge', 'Month']]\n",
    "df_payor_denial_2020.tail()"
   ]
  },
  {
   "cell_type": "code",
   "execution_count": null,
   "metadata": {},
   "outputs": [],
   "source": [
    "# drop rows when charge column contains a Null value\n",
    "# df_payor_denial_2020.dropna(subset=['Charge', 'Payor', 'Month'], how='any')"
   ]
  },
  {
   "cell_type": "code",
   "execution_count": 49,
   "metadata": {},
   "outputs": [
    {
     "ename": "NameError",
     "evalue": "name 'df_payor_denial_2020' is not defined",
     "output_type": "error",
     "traceback": [
      "\u001b[1;31m---------------------------------------------------------------------------\u001b[0m",
      "\u001b[1;31mNameError\u001b[0m                                 Traceback (most recent call last)",
      "\u001b[1;32m<ipython-input-49-8b08f0a01bad>\u001b[0m in \u001b[0;36m<module>\u001b[1;34m\u001b[0m\n\u001b[0;32m      1\u001b[0m \u001b[1;31m# Caaalculaaate the average Number\u001b[0m\u001b[1;33m\u001b[0m\u001b[1;33m\u001b[0m\u001b[1;33m\u001b[0m\u001b[0m\n\u001b[1;32m----> 2\u001b[1;33m \u001b[0mdf\u001b[0m \u001b[1;33m=\u001b[0m \u001b[0mdf_payor_denial_2020\u001b[0m\u001b[1;33m.\u001b[0m\u001b[0mpivot_table\u001b[0m\u001b[1;33m(\u001b[0m\u001b[0mindex\u001b[0m\u001b[1;33m=\u001b[0m\u001b[1;34m'Payor'\u001b[0m\u001b[1;33m,\u001b[0m \u001b[0mcolumns\u001b[0m\u001b[1;33m=\u001b[0m\u001b[1;34m'Month'\u001b[0m\u001b[1;33m,\u001b[0m \u001b[0mvalues\u001b[0m\u001b[1;33m=\u001b[0m\u001b[1;34m'Charge'\u001b[0m\u001b[1;33m,\u001b[0m \u001b[0mmargins\u001b[0m\u001b[1;33m=\u001b[0m\u001b[1;32mTrue\u001b[0m\u001b[1;33m,\u001b[0m \u001b[0mmargins_name\u001b[0m\u001b[1;33m=\u001b[0m\u001b[1;34m'Avg. Denied Charge'\u001b[0m\u001b[1;33m)\u001b[0m\u001b[1;33m\u001b[0m\u001b[1;33m\u001b[0m\u001b[0m\n\u001b[0m",
      "\u001b[1;31mNameError\u001b[0m: name 'df_payor_denial_2020' is not defined"
     ]
    }
   ],
   "source": [
    "# Caaalculaaate the average Number \n",
    "df = df_payor_denial_2020.pivot_table(index='Payor', columns='Month', values='Charge', margins=True, margins_name='Avg. Denied Charge')"
   ]
  },
  {
   "cell_type": "code",
   "execution_count": 47,
   "metadata": {},
   "outputs": [
    {
     "ename": "NameError",
     "evalue": "name 'df' is not defined",
     "output_type": "error",
     "traceback": [
      "\u001b[1;31m---------------------------------------------------------------------------\u001b[0m",
      "\u001b[1;31mNameError\u001b[0m                                 Traceback (most recent call last)",
      "\u001b[1;32m<ipython-input-47-812caf4d952f>\u001b[0m in \u001b[0;36m<module>\u001b[1;34m\u001b[0m\n\u001b[1;32m----> 1\u001b[1;33m \u001b[0mdf2\u001b[0m \u001b[1;33m=\u001b[0m \u001b[0mdf\u001b[0m\u001b[1;33m.\u001b[0m\u001b[0msort_values\u001b[0m\u001b[1;33m(\u001b[0m\u001b[1;34m'Avg. Denied Charge'\u001b[0m\u001b[1;33m,\u001b[0m \u001b[0mascending\u001b[0m\u001b[1;33m=\u001b[0m\u001b[1;32mFalse\u001b[0m\u001b[1;33m)\u001b[0m\u001b[1;33m.\u001b[0m\u001b[0mhead\u001b[0m\u001b[1;33m(\u001b[0m\u001b[1;36m10\u001b[0m\u001b[1;33m)\u001b[0m\u001b[1;33m\u001b[0m\u001b[1;33m\u001b[0m\u001b[0m\n\u001b[0m\u001b[0;32m      2\u001b[0m \u001b[0mdf_2\u001b[0m \u001b[1;33m=\u001b[0m \u001b[0mdf2\u001b[0m\u001b[1;33m.\u001b[0m\u001b[0miloc\u001b[0m\u001b[1;33m[\u001b[0m\u001b[1;36m0\u001b[0m\u001b[1;33m:\u001b[0m\u001b[1;36m9\u001b[0m\u001b[1;33m,\u001b[0m \u001b[1;33m:\u001b[0m\u001b[1;33m]\u001b[0m\u001b[1;33m\u001b[0m\u001b[1;33m\u001b[0m\u001b[0m\n\u001b[0;32m      3\u001b[0m \u001b[0mdf_2\u001b[0m\u001b[1;33m\u001b[0m\u001b[1;33m\u001b[0m\u001b[0m\n",
      "\u001b[1;31mNameError\u001b[0m: name 'df' is not defined"
     ]
    }
   ],
   "source": [
    "df2 = df.sort_values('Avg. Denied Charge', ascending=False).head(10)\n",
    "df_2 = df2.iloc[0:9, :]\n",
    "df_2"
   ]
  },
  {
   "cell_type": "code",
   "execution_count": null,
   "metadata": {},
   "outputs": [],
   "source": [
    "# The different fuel types\n",
    "plt.figure(figsize =(14,8))\n",
    "g = sns.lineplot(x = 'Month', y = 'Charge', hue = 'Payor', data = df_2, markers =True)\n",
    "g.set_yscale('log')\n",
    "plt.title('Energy Consumption')\n",
    "plt.xlabel('Year')\n",
    "#plt.ylabel('Fuel Qty')\n",
    "#plt.show()"
   ]
  }
 ],
 "metadata": {
  "kernelspec": {
   "display_name": "Python 3",
   "language": "python",
   "name": "python3"
  },
  "language_info": {
   "codemirror_mode": {
    "name": "ipython",
    "version": 3
   },
   "file_extension": ".py",
   "mimetype": "text/x-python",
   "name": "python",
   "nbconvert_exporter": "python",
   "pygments_lexer": "ipython3",
   "version": "3.8.8"
  }
 },
 "nbformat": 4,
 "nbformat_minor": 2
}
